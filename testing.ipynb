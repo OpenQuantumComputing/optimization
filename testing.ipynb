{
 "cells": [
  {
   "cell_type": "code",
   "execution_count": 2,
   "id": "11322472",
   "metadata": {},
   "outputs": [],
   "source": [
    "# import sys\n",
    "# sys.path.append('../')\n",
    "\n",
    "# from qiskit_utilities.mixers import *\n",
    "from mixers import *\n",
    "import math"
   ]
  },
  {
   "cell_type": "code",
   "execution_count": 3,
   "id": "8d9ecd99",
   "metadata": {},
   "outputs": [],
   "source": [
    "from IPython.display import display\n",
    "np.set_printoptions(suppress=True)"
   ]
  },
  {
   "cell_type": "code",
   "execution_count": 4,
   "id": "100097fc",
   "metadata": {},
   "outputs": [
    {
     "name": "stdout",
     "output_type": "stream",
     "text": [
      "cost( 2 )= 4\n",
      "cost( 3 )= 12\n",
      "cost( 4 )= 32\n",
      "cost( 5 )= 80\n",
      "cost( 6 )= 192\n",
      "cost( 7 )= 448\n",
      "cost( 8 )= 1024\n",
      "cost( 9 )= 2304\n",
      "cost( 10 )= 5120\n",
      "cost( 11 )= 11264\n",
      "cost( 12 )= 24576\n",
      "cost( 13 )= 53248\n",
      "cost( 14 )= 114688\n",
      "cost( 15 )= 245760\n",
      "& 4& 12& 32& 80& 192& 448& 1024& 2304& 5120& 11264& 24576& 53248& 114688& 245760\n"
     ]
    }
   ],
   "source": [
    "def scost(l,n):\n",
    "    if n<2 or l>n:\n",
    "        return 0\n",
    "    if n==2:\n",
    "        if l==2:\n",
    "            return l\n",
    "        else:\n",
    "            return 0\n",
    "    else:\n",
    "        return scost(l,n-1)+scost(l-1,n-1)\n",
    "ls=''\n",
    "for n in range(2,16):\n",
    "    cost=0\n",
    "    for l in range(2,n+1):\n",
    "        cost+=2*(l-1)*scost(l,n)\n",
    "    ls+=\"& \"+str(cost)\n",
    "    print(\"cost(\",n,\")=\",cost)\n",
    "print(ls)\n",
    "\n",
    "# ls=''\n",
    "# for n in range(2,16):\n",
    "#     cost=0\n",
    "#     for l in range(2,n+1):\n",
    "#         cost+=2*(l-1)*math.comb(l,n)\n",
    "#     ls+=\"& \"+str(cost)\n",
    "#     print(\"cost(\",n,\")=\",cost)\n",
    "# print(ls)"
   ]
  },
  {
   "cell_type": "code",
   "execution_count": 5,
   "id": "017d373f",
   "metadata": {},
   "outputs": [
    {
     "name": "stdout",
     "output_type": "stream",
     "text": [
      "1.0\n",
      "3.0\n",
      "6.0\n",
      "10.0\n",
      "15.0\n",
      "21.0\n",
      "28.0\n",
      "36.0\n",
      "45.0\n",
      "55.0\n",
      "66.0\n",
      "78.0\n",
      "91.0\n",
      "105.0\n"
     ]
    }
   ],
   "source": [
    "for n in range(2,16):\n",
    "    print((n**2-n)/2)"
   ]
  },
  {
   "cell_type": "code",
   "execution_count": 6,
   "id": "130a14eb",
   "metadata": {},
   "outputs": [],
   "source": [
    "# for n in range(2,6):\n",
    "#     row=[]\n",
    "#     for l in range(2,n+1):\n",
    "#         row.append(scost(l,n))\n",
    "#     display(row)\n",
    "# for n in range(2,6):\n",
    "#     row=[]\n",
    "#     for l in range(2,n+1):\n",
    "#         row.append(math.comb(n,l))\n",
    "#     display(row)"
   ]
  },
  {
   "cell_type": "code",
   "execution_count": 6,
   "id": "111b3558",
   "metadata": {},
   "outputs": [],
   "source": [
    "# #populate counts\n",
    "# for n  in range(2,10):\n",
    "#     nums=np.zeros((n,n))\n",
    "#     for i in range(n):\n",
    "#         for j in range(n):\n",
    "#             nums[j,i] = scost(i+1,j+1)\n",
    "#     weights=np.zeros(n)\n",
    "#     for i in range(n):\n",
    "#         weights[i]=2*(i+1)\n",
    "# #     display(nums)\n",
    "# #     display(weights)\n",
    "# #     display(nums.dot(weights))\n",
    "#     display(nums[-1,:],weights)\n",
    "#     display(np.sum(np.dot(nums[-1,:],weights)))"
   ]
  },
  {
   "cell_type": "code",
   "execution_count": null,
   "id": "7c62fe20",
   "metadata": {},
   "outputs": [],
   "source": []
  },
  {
   "cell_type": "code",
   "execution_count": 4,
   "id": "698f5758",
   "metadata": {},
   "outputs": [
    {
     "data": {
      "text/plain": [
       "0.0"
      ]
     },
     "metadata": {},
     "output_type": "display_data"
    }
   ],
   "source": [
    "s=0\n",
    "for n in range(1,8):\n",
    "    T1=get_T(2**n,mode='standard',d=1)\n",
    "    for k in range(1,10):\n",
    "        Tkm1=get_T(2**n,mode='standard',d=k-1)\n",
    "        Tk=get_T(2**n,mode='standard',d=k)\n",
    "        Tkp1=get_T(2**n,mode='standard',d=k+1)\n",
    "        s+=np.max(np.matmul(Tk,T1)-((n-(k-1))*Tkm1+(k+1)*Tkp1))\n",
    "display(s)"
   ]
  },
  {
   "cell_type": "code",
   "execution_count": 5,
   "id": "8452ca6e",
   "metadata": {},
   "outputs": [
    {
     "data": {
      "text/plain": [
       "{1: array([[0., 1., 0., 0.],\n",
       "        [1., 0., 1., 0.],\n",
       "        [0., 1., 0., 1.],\n",
       "        [0., 0., 1., 0.]]),\n",
       " 2: array([[1., 0., 1., 0.],\n",
       "        [0., 2., 0., 1.],\n",
       "        [1., 0., 2., 0.],\n",
       "        [0., 1., 0., 1.]]),\n",
       " 3: array([[0., 2., 0., 1.],\n",
       "        [2., 0., 3., 0.],\n",
       "        [0., 3., 0., 2.],\n",
       "        [1., 0., 2., 0.]]),\n",
       " 4: array([[2., 0., 3., 0.],\n",
       "        [0., 5., 0., 3.],\n",
       "        [3., 0., 5., 0.],\n",
       "        [0., 3., 0., 2.]])}"
      ]
     },
     "metadata": {},
     "output_type": "display_data"
    },
    {
     "data": {
      "text/plain": [
       "{1: array([[0., 1., 0., 1.],\n",
       "        [1., 0., 1., 0.],\n",
       "        [0., 1., 0., 1.],\n",
       "        [1., 0., 1., 0.]]),\n",
       " 2: array([[2., 0., 2., 0.],\n",
       "        [0., 2., 0., 2.],\n",
       "        [2., 0., 2., 0.],\n",
       "        [0., 2., 0., 2.]]),\n",
       " 3: array([[0., 4., 0., 4.],\n",
       "        [4., 0., 4., 0.],\n",
       "        [0., 4., 0., 4.],\n",
       "        [4., 0., 4., 0.]]),\n",
       " 4: array([[8., 0., 8., 0.],\n",
       "        [0., 8., 0., 8.],\n",
       "        [8., 0., 8., 0.],\n",
       "        [0., 8., 0., 8.]])}"
      ]
     },
     "metadata": {},
     "output_type": "display_data"
    }
   ],
   "source": [
    "n=4\n",
    "T={}\n",
    "T[1]=get_T(n,mode='nearest_int',d=1)\n",
    "for k in range(2,5):\n",
    "    T[k]=np.matmul(T[k-1],T[1])\n",
    "display(T)\n",
    "\n",
    "T={}\n",
    "T[1]=get_T(n,mode='nearest_int_cyclic',d=1)\n",
    "for k in range(2,5):\n",
    "    T[k]=np.matmul(T[k-1],T[1])\n",
    "display(T)\n",
    "### for n in range(1,10):\n",
    "#     T1=get_T(2**n,mode='standard',d=1)\n",
    "#     for k in range(1,10):\n",
    "#         Tkm1=get_T(2**n,mode='standard',d=k-1)\n",
    "#         Tk=get_T(2**n,mode='standard',d=k)\n",
    "#         Tkp1=get_T(2**n,mode='standard',d=k+1)\n",
    "#         display(np.max(np.matmul(Tk,T1)-((n-(k-1))*Tkm1+(k+1)*Tkp1)))"
   ]
  },
  {
   "cell_type": "code",
   "execution_count": 9,
   "id": "4abf5568",
   "metadata": {},
   "outputs": [
    {
     "data": {
      "text/plain": [
       "array([[0., 1., 1., 0., 1., 0., 0., 0., 1., 0., 0., 0., 0., 0., 0., 0.],\n",
       "       [1., 0., 0., 1., 0., 1., 0., 0., 0., 1., 0., 0., 0., 0., 0., 0.],\n",
       "       [1., 0., 0., 1., 0., 0., 1., 0., 0., 0., 1., 0., 0., 0., 0., 0.],\n",
       "       [0., 1., 1., 0., 0., 0., 0., 1., 0., 0., 0., 1., 0., 0., 0., 0.],\n",
       "       [1., 0., 0., 0., 0., 1., 1., 0., 0., 0., 0., 0., 1., 0., 0., 0.],\n",
       "       [0., 1., 0., 0., 1., 0., 0., 1., 0., 0., 0., 0., 0., 1., 0., 0.],\n",
       "       [0., 0., 1., 0., 1., 0., 0., 1., 0., 0., 0., 0., 0., 0., 1., 0.],\n",
       "       [0., 0., 0., 1., 0., 1., 1., 0., 0., 0., 0., 0., 0., 0., 0., 1.],\n",
       "       [1., 0., 0., 0., 0., 0., 0., 0., 0., 1., 1., 0., 1., 0., 0., 0.],\n",
       "       [0., 1., 0., 0., 0., 0., 0., 0., 1., 0., 0., 1., 0., 1., 0., 0.],\n",
       "       [0., 0., 1., 0., 0., 0., 0., 0., 1., 0., 0., 1., 0., 0., 1., 0.],\n",
       "       [0., 0., 0., 1., 0., 0., 0., 0., 0., 1., 1., 0., 0., 0., 0., 1.],\n",
       "       [0., 0., 0., 0., 1., 0., 0., 0., 1., 0., 0., 0., 0., 1., 1., 0.],\n",
       "       [0., 0., 0., 0., 0., 1., 0., 0., 0., 1., 0., 0., 1., 0., 0., 1.],\n",
       "       [0., 0., 0., 0., 0., 0., 1., 0., 0., 0., 1., 0., 1., 0., 0., 1.],\n",
       "       [0., 0., 0., 0., 0., 0., 0., 1., 0., 0., 0., 1., 0., 1., 1., 0.]])"
      ]
     },
     "execution_count": 9,
     "metadata": {},
     "output_type": "execute_result"
    }
   ],
   "source": [
    "get_T(2**4,mode='standard',d=1)"
   ]
  },
  {
   "cell_type": "code",
   "execution_count": 10,
   "id": "f53fcecc",
   "metadata": {},
   "outputs": [
    {
     "name": "stdout",
     "output_type": "stream",
     "text": [
      "0.0\n",
      "0.0\n",
      "0.0\n",
      "0.0\n",
      "0.0\n",
      "0.0\n",
      "0.0\n",
      "0.0\n"
     ]
    }
   ],
   "source": [
    "for n in range(2,10):\n",
    "    print(np.linalg.norm(np.ones(2**n),2)-2**(n/2))"
   ]
  },
  {
   "cell_type": "code",
   "execution_count": null,
   "id": "9b200ed5",
   "metadata": {},
   "outputs": [],
   "source": []
  },
  {
   "cell_type": "code",
   "execution_count": null,
   "id": "afe62a9c",
   "metadata": {},
   "outputs": [],
   "source": []
  },
  {
   "cell_type": "code",
   "execution_count": 11,
   "id": "ed752e72",
   "metadata": {},
   "outputs": [
    {
     "data": {
      "text/plain": [
       "(['100', '010', '001'],\n",
       " ['011', '101', '110'],\n",
       " [],\n",
       " (['011', '101', '110'], [0, 1, 2]))"
      ]
     },
     "execution_count": 11,
     "metadata": {},
     "output_type": "execute_result"
    }
   ],
   "source": [
    "tmp=['100','010','001']\n",
    "tmp_neg=get_bitwise_negated_strings(tmp)\n",
    "tmp, tmp_neg, get_overlap(tmp,tmp_neg), get_minus(tmp_neg,tmp)"
   ]
  },
  {
   "cell_type": "code",
   "execution_count": 12,
   "id": "47c00718",
   "metadata": {},
   "outputs": [
    {
     "data": {
      "text/plain": [
       "(['001', '111', '101'],\n",
       " ['110', '000', '010'],\n",
       " [],\n",
       " (['110', '000', '010'], [0, 1, 2]))"
      ]
     },
     "execution_count": 12,
     "metadata": {},
     "output_type": "execute_result"
    }
   ],
   "source": [
    "tmp=['001','111','101']\n",
    "tmp_neg=get_bitwise_negated_strings(tmp)\n",
    "tmp, tmp_neg, get_overlap(tmp,tmp_neg), get_minus(tmp_neg,tmp)"
   ]
  },
  {
   "cell_type": "code",
   "execution_count": 13,
   "id": "70cf7238",
   "metadata": {},
   "outputs": [
    {
     "data": {
      "text/plain": [
       "(['100', '010', '011'], ['011', '101', '100'], ['100', '011'], (['101'], [1]))"
      ]
     },
     "execution_count": 13,
     "metadata": {},
     "output_type": "execute_result"
    }
   ],
   "source": [
    "tmp=['100','010','011']\n",
    "tmp_neg=get_bitwise_negated_strings(tmp)\n",
    "tmp, tmp_neg, get_overlap(tmp,tmp_neg), get_minus(tmp_neg,tmp)"
   ]
  },
  {
   "cell_type": "code",
   "execution_count": 14,
   "id": "0a79cba8",
   "metadata": {},
   "outputs": [
    {
     "data": {
      "text/plain": [
       "(['100', '010', '001', '011'],\n",
       " ['011', '101', '110', '100'],\n",
       " ['100', '011'],\n",
       " ['101', '110'],\n",
       " [1, 2])"
      ]
     },
     "execution_count": 14,
     "metadata": {},
     "output_type": "execute_result"
    }
   ],
   "source": [
    "tmp=['100','010','001','011']\n",
    "tmp_neg=get_bitwise_negated_strings(tmp)\n",
    "minus, m_ind = get_minus(tmp_neg,tmp)\n",
    "tmp, tmp_neg, get_overlap(tmp,tmp_neg), minus, m_ind"
   ]
  },
  {
   "cell_type": "code",
   "execution_count": null,
   "id": "5a021a9f",
   "metadata": {},
   "outputs": [],
   "source": []
  },
  {
   "cell_type": "code",
   "execution_count": 15,
   "id": "69445a4f",
   "metadata": {},
   "outputs": [],
   "source": [
    "# for mask in all_states(3):\n",
    "#     display(get_negated_strings(tmp,mask))"
   ]
  },
  {
   "cell_type": "code",
   "execution_count": null,
   "id": "e2f06adc",
   "metadata": {},
   "outputs": [],
   "source": []
  },
  {
   "cell_type": "code",
   "execution_count": 16,
   "id": "0860a213",
   "metadata": {},
   "outputs": [],
   "source": [
    "# T[m_ind].T[m_ind].T"
   ]
  },
  {
   "cell_type": "code",
   "execution_count": 17,
   "id": "c1871039",
   "metadata": {
    "scrolled": false
   },
   "outputs": [
    {
     "name": "stdout",
     "output_type": "stream",
     "text": [
      "#sqg, #cnots= (0, 36)\n",
      "#sqg, #cnots= (0, 12)\n",
      "#sqg, #cnots= (0, 12)\n",
      "#sqg, #cnots= (0, 12)\n"
     ]
    },
    {
     "data": {
      "text/latex": [
       "$\\displaystyle 0.125 \\cdot {{{1}\\otimes {1}}\\otimes {\\sigma_{1}}}\\otimes {\\sigma_{1}} + 0.125 \\cdot {{{1}\\otimes {1}}\\otimes {\\sigma_{2}}}\\otimes {\\sigma_{2}} + 0.125 \\cdot {{{1}\\otimes {\\sigma_{3}}}\\otimes {\\sigma_{1}}}\\otimes {\\sigma_{1}} + 0.125 \\cdot {{{1}\\otimes {\\sigma_{3}}}\\otimes {\\sigma_{2}}}\\otimes {\\sigma_{2}} + 0.125 {{{\\sigma_{1}}\\otimes {1}}\\otimes {\\sigma_{1}}}\\otimes {1} + 0.125 {{{\\sigma_{1}}\\otimes {1}}\\otimes {\\sigma_{1}}}\\otimes {\\sigma_{3}} + 0.5 {{{\\sigma_{1}}\\otimes {\\sigma_{1}}}\\otimes {1}}\\otimes {1} + 0.125 {{{\\sigma_{1}}\\otimes {\\sigma_{3}}}\\otimes {\\sigma_{1}}}\\otimes {1} + 0.125 {{{\\sigma_{1}}\\otimes {\\sigma_{3}}}\\otimes {\\sigma_{1}}}\\otimes {\\sigma_{3}} + 0.125 {{{\\sigma_{2}}\\otimes {1}}\\otimes {\\sigma_{2}}}\\otimes {1} + 0.125 {{{\\sigma_{2}}\\otimes {1}}\\otimes {\\sigma_{2}}}\\otimes {\\sigma_{3}} + 0.5 {{{\\sigma_{2}}\\otimes {\\sigma_{2}}}\\otimes {1}}\\otimes {1} + 0.125 {{{\\sigma_{2}}\\otimes {\\sigma_{3}}}\\otimes {\\sigma_{2}}}\\otimes {1} + 0.125 {{{\\sigma_{2}}\\otimes {\\sigma_{3}}}\\otimes {\\sigma_{2}}}\\otimes {\\sigma_{3}} + 0.125 {{{\\sigma_{3}}\\otimes {1}}\\otimes {\\sigma_{1}}}\\otimes {\\sigma_{1}} + 0.125 {{{\\sigma_{3}}\\otimes {1}}\\otimes {\\sigma_{2}}}\\otimes {\\sigma_{2}} + 0.125 {{{\\sigma_{3}}\\otimes {\\sigma_{3}}}\\otimes {\\sigma_{1}}}\\otimes {\\sigma_{1}} + 0.125 {{{\\sigma_{3}}\\otimes {\\sigma_{3}}}\\otimes {\\sigma_{2}}}\\otimes {\\sigma_{2}}$"
      ],
      "text/plain": [
       "0.125*1x1xsigma1xsigma1 + 0.125*1x1xsigma2xsigma2 + 0.125*1xsigma3xsigma1xsigma1 + 0.125*1xsigma3xsigma2xsigma2 + 0.125*sigma1x1xsigma1x1 + 0.125*sigma1x1xsigma1xsigma3 + 0.5*sigma1xsigma1x1x1 + 0.125*sigma1xsigma3xsigma1x1 + 0.125*sigma1xsigma3xsigma1xsigma3 + 0.125*sigma2x1xsigma2x1 + 0.125*sigma2x1xsigma2xsigma3 + 0.5*sigma2xsigma2x1x1 + 0.125*sigma2xsigma3xsigma2x1 + 0.125*sigma2xsigma3xsigma2xsigma3 + 0.125*sigma3x1xsigma1xsigma1 + 0.125*sigma3x1xsigma2xsigma2 + 0.125*sigma3xsigma3xsigma1xsigma1 + 0.125*sigma3xsigma3xsigma2xsigma2"
      ]
     },
     "metadata": {},
     "output_type": "display_data"
    }
   ],
   "source": [
    "\n",
    "H=get_H(['0100','1000','0010','0001'],get_T(4,\"nearest_int\"),simplify=False)\n",
    "H+=get_H(['0101','1001'],get_T(2,\"nearest_int\"),simplify=False)\n",
    "H+=get_H(['0110','1010'],get_T(2,\"nearest_int\"),simplify=False)\n",
    "H+=get_H(['0111','1011'],get_T(2,\"nearest_int\"),simplify=False)\n",
    "\n",
    "H=simplifyH(H)\n",
    "display(H)"
   ]
  },
  {
   "cell_type": "code",
   "execution_count": null,
   "id": "841d7906",
   "metadata": {},
   "outputs": [],
   "source": []
  },
  {
   "cell_type": "code",
   "execution_count": 18,
   "id": "3c08d60f",
   "metadata": {},
   "outputs": [
    {
     "data": {
      "text/plain": [
       "['000', '001', '010', '011', '100', '101', '110', '111']"
      ]
     },
     "execution_count": 18,
     "metadata": {},
     "output_type": "execute_result"
    }
   ],
   "source": [
    "all_states(3)"
   ]
  },
  {
   "cell_type": "code",
   "execution_count": null,
   "id": "c14f29a5",
   "metadata": {},
   "outputs": [],
   "source": []
  },
  {
   "cell_type": "code",
   "execution_count": null,
   "id": "767adc29",
   "metadata": {},
   "outputs": [],
   "source": []
  },
  {
   "cell_type": "code",
   "execution_count": null,
   "id": "5f368e7d",
   "metadata": {},
   "outputs": [],
   "source": []
  },
  {
   "cell_type": "code",
   "execution_count": 19,
   "id": "d028b920",
   "metadata": {},
   "outputs": [
    {
     "data": {
      "text/plain": [
       "array([[0., 1.],\n",
       "       [1., 0.]])"
      ]
     },
     "metadata": {},
     "output_type": "display_data"
    },
    {
     "name": "stdout",
     "output_type": "stream",
     "text": [
      "Hamming distance= (2, 0.2)\n"
     ]
    },
    {
     "data": {
      "text/plain": [
       "'H='"
      ]
     },
     "metadata": {},
     "output_type": "display_data"
    },
    {
     "data": {
      "text/latex": [
       "$\\displaystyle 0.5 {\\sigma_{1}}\\otimes {\\sigma_{1}} + 0.5 {\\sigma_{2}}\\otimes {\\sigma_{2}}$"
      ],
      "text/plain": [
       "0.5*sigma1xsigma1 + 0.5*sigma2xsigma2"
      ]
     },
     "metadata": {},
     "output_type": "display_data"
    },
    {
     "name": "stdout",
     "output_type": "stream",
     "text": [
      "#sqg, #cnots= (0, 4)\n",
      "overlap with bitwise negated stringlist = ['01', '10']\n",
      "minus = []\n",
      "g(x)= 2*x0*x1 - x0 - x1 + 1\n",
      "is zero for the following bitstrings:\n",
      "0 1\n",
      "1 0\n",
      "m,2**n 2 4\n",
      "minus = []\n",
      "add minus = ['11', '00']\n"
     ]
    },
    {
     "data": {
      "text/plain": [
       "'H='"
      ]
     },
     "metadata": {},
     "output_type": "display_data"
    },
    {
     "data": {
      "text/latex": [
       "$\\displaystyle 1.0 {\\sigma_{1}}\\otimes {\\sigma_{1}}$"
      ],
      "text/plain": [
       "1.0*sigma1xsigma1"
      ]
     },
     "metadata": {},
     "output_type": "display_data"
    },
    {
     "name": "stdout",
     "output_type": "stream",
     "text": [
      "#sqg, #cnots= (0, 2)\n"
     ]
    }
   ],
   "source": [
    "T=np.ones((2,2))\n",
    "T[0,0]=0\n",
    "T[1,1]=0\n",
    "display(T)\n",
    "\n",
    "print_info(['01','10'],T)\n",
    "print_info2(['01','10'],T)"
   ]
  },
  {
   "cell_type": "code",
   "execution_count": 20,
   "id": "706f830e",
   "metadata": {},
   "outputs": [
    {
     "data": {
      "text/plain": [
       "array([[0., 1.],\n",
       "       [1., 0.]])"
      ]
     },
     "metadata": {},
     "output_type": "display_data"
    },
    {
     "name": "stdout",
     "output_type": "stream",
     "text": [
      "Hamming distance= (2, 0.2)\n"
     ]
    },
    {
     "data": {
      "text/plain": [
       "'H='"
      ]
     },
     "metadata": {},
     "output_type": "display_data"
    },
    {
     "data": {
      "text/latex": [
       "$\\displaystyle 0.5 {\\sigma_{1}}\\otimes {\\sigma_{1}} + 0.5 {\\sigma_{2}}\\otimes {\\sigma_{2}}$"
      ],
      "text/plain": [
       "0.5*sigma1xsigma1 + 0.5*sigma2xsigma2"
      ]
     },
     "metadata": {},
     "output_type": "display_data"
    },
    {
     "name": "stdout",
     "output_type": "stream",
     "text": [
      "#sqg, #cnots= (0, 4)\n",
      "overlap with bitwise negated stringlist = ['01', '10']\n",
      "minus = []\n",
      "g(x)= 2*x0*x1 - x0 - x1 + 1\n",
      "is zero for the following bitstrings:\n",
      "0 1\n",
      "1 0\n"
     ]
    }
   ],
   "source": [
    "T=np.ones((2,2))-np.identity(2)\n",
    "display(T)\n",
    "\n",
    "print_info(['01','10'],T)"
   ]
  },
  {
   "cell_type": "code",
   "execution_count": 21,
   "id": "a17a3e40",
   "metadata": {
    "scrolled": false
   },
   "outputs": [
    {
     "data": {
      "text/plain": [
       "array([[-1.,  1.,  1.],\n",
       "       [ 1., -1.,  1.],\n",
       "       [ 1.,  1., -1.]])"
      ]
     },
     "metadata": {},
     "output_type": "display_data"
    },
    {
     "name": "stdout",
     "output_type": "stream",
     "text": [
      "Hamming distance= (8, 4.4)\n"
     ]
    },
    {
     "data": {
      "text/plain": [
       "'H='"
      ]
     },
     "metadata": {},
     "output_type": "display_data"
    },
    {
     "data": {
      "text/latex": [
       "$\\displaystyle - 0.375 \\cdot {{1}\\otimes {1}}\\otimes {1} - 0.125 \\cdot {{1}\\otimes {1}}\\otimes {\\sigma_{3}} + 0.25 \\cdot {{1}\\otimes {\\sigma_{1}}}\\otimes {\\sigma_{1}} + 0.25 \\cdot {{1}\\otimes {\\sigma_{2}}}\\otimes {\\sigma_{2}} - 0.125 \\cdot {{1}\\otimes {\\sigma_{3}}}\\otimes {1} + 0.125 \\cdot {{1}\\otimes {\\sigma_{3}}}\\otimes {\\sigma_{3}} + 0.25 {{\\sigma_{1}}\\otimes {1}}\\otimes {\\sigma_{1}} + 0.25 {{\\sigma_{1}}\\otimes {\\sigma_{1}}}\\otimes {1} + 0.25 {{\\sigma_{1}}\\otimes {\\sigma_{1}}}\\otimes {\\sigma_{3}} + 0.25 {{\\sigma_{1}}\\otimes {\\sigma_{3}}}\\otimes {\\sigma_{1}} + 0.25 {{\\sigma_{2}}\\otimes {1}}\\otimes {\\sigma_{2}} + 0.25 {{\\sigma_{2}}\\otimes {\\sigma_{2}}}\\otimes {1} + 0.25 {{\\sigma_{2}}\\otimes {\\sigma_{2}}}\\otimes {\\sigma_{3}} + 0.25 {{\\sigma_{2}}\\otimes {\\sigma_{3}}}\\otimes {\\sigma_{2}} - 0.125 {{\\sigma_{3}}\\otimes {1}}\\otimes {1} + 0.125 {{\\sigma_{3}}\\otimes {1}}\\otimes {\\sigma_{3}} + 0.25 {{\\sigma_{3}}\\otimes {\\sigma_{1}}}\\otimes {\\sigma_{1}} + 0.25 {{\\sigma_{3}}\\otimes {\\sigma_{2}}}\\otimes {\\sigma_{2}} + 0.125 {{\\sigma_{3}}\\otimes {\\sigma_{3}}}\\otimes {1} + 0.375 {{\\sigma_{3}}\\otimes {\\sigma_{3}}}\\otimes {\\sigma_{3}}$"
      ],
      "text/plain": [
       "-0.375*1x1x1 - 0.125*1x1xsigma3 + 0.25*1xsigma1xsigma1 + 0.25*1xsigma2xsigma2 - 0.125*1xsigma3x1 + 0.125*1xsigma3xsigma3 + 0.25*sigma1x1xsigma1 + 0.25*sigma1xsigma1x1 + 0.25*sigma1xsigma1xsigma3 + 0.25*sigma1xsigma3xsigma1 + 0.25*sigma2x1xsigma2 + 0.25*sigma2xsigma2x1 + 0.25*sigma2xsigma2xsigma3 + 0.25*sigma2xsigma3xsigma2 - 0.125*sigma3x1x1 + 0.125*sigma3x1xsigma3 + 0.25*sigma3xsigma1xsigma1 + 0.25*sigma3xsigma2xsigma2 + 0.125*sigma3xsigma3x1 + 0.375*sigma3xsigma3xsigma3"
      ]
     },
     "metadata": {},
     "output_type": "display_data"
    },
    {
     "name": "stdout",
     "output_type": "stream",
     "text": [
      "#sqg, #cnots= (3, 46)\n"
     ]
    },
    {
     "data": {
      "text/plain": [
       "'H+H_neg='"
      ]
     },
     "metadata": {},
     "output_type": "display_data"
    },
    {
     "data": {
      "text/latex": [
       "$\\displaystyle - 0.75 \\cdot {{1}\\otimes {1}}\\otimes {1} + 0.5 \\cdot {{1}\\otimes {\\sigma_{1}}}\\otimes {\\sigma_{1}} + 0.5 \\cdot {{1}\\otimes {\\sigma_{2}}}\\otimes {\\sigma_{2}} + 0.25 \\cdot {{1}\\otimes {\\sigma_{3}}}\\otimes {\\sigma_{3}} + 0.5 {{\\sigma_{1}}\\otimes {1}}\\otimes {\\sigma_{1}} + 0.5 {{\\sigma_{1}}\\otimes {\\sigma_{1}}}\\otimes {1} + 0.5 {{\\sigma_{2}}\\otimes {1}}\\otimes {\\sigma_{2}} + 0.5 {{\\sigma_{2}}\\otimes {\\sigma_{2}}}\\otimes {1} + 0.25 {{\\sigma_{3}}\\otimes {1}}\\otimes {\\sigma_{3}} + 0.25 {{\\sigma_{3}}\\otimes {\\sigma_{3}}}\\otimes {1}$"
      ],
      "text/plain": [
       "-0.75*1x1x1 + 0.5*1xsigma1xsigma1 + 0.5*1xsigma2xsigma2 + 0.25*1xsigma3xsigma3 + 0.5*sigma1x1xsigma1 + 0.5*sigma1xsigma1x1 + 0.5*sigma2x1xsigma2 + 0.5*sigma2xsigma2x1 + 0.25*sigma3x1xsigma3 + 0.25*sigma3xsigma3x1"
      ]
     },
     "metadata": {},
     "output_type": "display_data"
    },
    {
     "name": "stdout",
     "output_type": "stream",
     "text": [
      "#sqg, #cnots= (0, 18)\n"
     ]
    },
    {
     "data": {
      "text/plain": [
       "'H+H_minus='"
      ]
     },
     "metadata": {},
     "output_type": "display_data"
    },
    {
     "data": {
      "text/latex": [
       "$\\displaystyle - 0.75 \\cdot {{1}\\otimes {1}}\\otimes {1} + 0.5 \\cdot {{1}\\otimes {\\sigma_{1}}}\\otimes {\\sigma_{1}} + 0.5 \\cdot {{1}\\otimes {\\sigma_{2}}}\\otimes {\\sigma_{2}} + 0.25 \\cdot {{1}\\otimes {\\sigma_{3}}}\\otimes {\\sigma_{3}} + 0.5 {{\\sigma_{1}}\\otimes {1}}\\otimes {\\sigma_{1}} + 0.5 {{\\sigma_{1}}\\otimes {\\sigma_{1}}}\\otimes {1} + 0.5 {{\\sigma_{2}}\\otimes {1}}\\otimes {\\sigma_{2}} + 0.5 {{\\sigma_{2}}\\otimes {\\sigma_{2}}}\\otimes {1} + 0.25 {{\\sigma_{3}}\\otimes {1}}\\otimes {\\sigma_{3}} + 0.25 {{\\sigma_{3}}\\otimes {\\sigma_{3}}}\\otimes {1}$"
      ],
      "text/plain": [
       "-0.75*1x1x1 + 0.5*1xsigma1xsigma1 + 0.5*1xsigma2xsigma2 + 0.25*1xsigma3xsigma3 + 0.5*sigma1x1xsigma1 + 0.5*sigma1xsigma1x1 + 0.5*sigma2x1xsigma2 + 0.5*sigma2xsigma2x1 + 0.25*sigma3x1xsigma3 + 0.25*sigma3xsigma3x1"
      ]
     },
     "metadata": {},
     "output_type": "display_data"
    },
    {
     "name": "stdout",
     "output_type": "stream",
     "text": [
      "#sqg, #cnots= (0, 18)\n",
      "g(x)= -2*x0*x1*x2 + 4*x0*x1 + 4*x0*x2 - x0 + 4*x1*x2 - x1 - x2 + 1\n",
      "is zero for the following bitstrings:\n",
      "0 0 1\n",
      "0 1 0\n",
      "1 0 0\n"
     ]
    },
    {
     "data": {
      "text/plain": [
       "array([[0., 1., 1.],\n",
       "       [1., 0., 1.],\n",
       "       [1., 1., 0.]])"
      ]
     },
     "metadata": {},
     "output_type": "display_data"
    },
    {
     "name": "stdout",
     "output_type": "stream",
     "text": [
      "Hamming distance= (8, 4.4)\n"
     ]
    },
    {
     "data": {
      "text/plain": [
       "'H='"
      ]
     },
     "metadata": {},
     "output_type": "display_data"
    },
    {
     "data": {
      "text/latex": [
       "$\\displaystyle 0.25 \\cdot {{1}\\otimes {\\sigma_{1}}}\\otimes {\\sigma_{1}} + 0.25 \\cdot {{1}\\otimes {\\sigma_{2}}}\\otimes {\\sigma_{2}} + 0.25 {{\\sigma_{1}}\\otimes {1}}\\otimes {\\sigma_{1}} + 0.25 {{\\sigma_{1}}\\otimes {\\sigma_{1}}}\\otimes {1} + 0.25 {{\\sigma_{1}}\\otimes {\\sigma_{1}}}\\otimes {\\sigma_{3}} + 0.25 {{\\sigma_{1}}\\otimes {\\sigma_{3}}}\\otimes {\\sigma_{1}} + 0.25 {{\\sigma_{2}}\\otimes {1}}\\otimes {\\sigma_{2}} + 0.25 {{\\sigma_{2}}\\otimes {\\sigma_{2}}}\\otimes {1} + 0.25 {{\\sigma_{2}}\\otimes {\\sigma_{2}}}\\otimes {\\sigma_{3}} + 0.25 {{\\sigma_{2}}\\otimes {\\sigma_{3}}}\\otimes {\\sigma_{2}} + 0.25 {{\\sigma_{3}}\\otimes {\\sigma_{1}}}\\otimes {\\sigma_{1}} + 0.25 {{\\sigma_{3}}\\otimes {\\sigma_{2}}}\\otimes {\\sigma_{2}}$"
      ],
      "text/plain": [
       "0.25*1xsigma1xsigma1 + 0.25*1xsigma2xsigma2 + 0.25*sigma1x1xsigma1 + 0.25*sigma1xsigma1x1 + 0.25*sigma1xsigma1xsigma3 + 0.25*sigma1xsigma3xsigma1 + 0.25*sigma2x1xsigma2 + 0.25*sigma2xsigma2x1 + 0.25*sigma2xsigma2xsigma3 + 0.25*sigma2xsigma3xsigma2 + 0.25*sigma3xsigma1xsigma1 + 0.25*sigma3xsigma2xsigma2"
      ]
     },
     "metadata": {},
     "output_type": "display_data"
    },
    {
     "name": "stdout",
     "output_type": "stream",
     "text": [
      "#sqg, #cnots= (0, 36)\n"
     ]
    },
    {
     "data": {
      "text/plain": [
       "'H+H_neg='"
      ]
     },
     "metadata": {},
     "output_type": "display_data"
    },
    {
     "data": {
      "text/latex": [
       "$\\displaystyle 0.5 \\cdot {{1}\\otimes {\\sigma_{1}}}\\otimes {\\sigma_{1}} + 0.5 \\cdot {{1}\\otimes {\\sigma_{2}}}\\otimes {\\sigma_{2}} + 0.5 {{\\sigma_{1}}\\otimes {1}}\\otimes {\\sigma_{1}} + 0.5 {{\\sigma_{1}}\\otimes {\\sigma_{1}}}\\otimes {1} + 0.5 {{\\sigma_{2}}\\otimes {1}}\\otimes {\\sigma_{2}} + 0.5 {{\\sigma_{2}}\\otimes {\\sigma_{2}}}\\otimes {1}$"
      ],
      "text/plain": [
       "0.5*1xsigma1xsigma1 + 0.5*1xsigma2xsigma2 + 0.5*sigma1x1xsigma1 + 0.5*sigma1xsigma1x1 + 0.5*sigma2x1xsigma2 + 0.5*sigma2xsigma2x1"
      ]
     },
     "metadata": {},
     "output_type": "display_data"
    },
    {
     "name": "stdout",
     "output_type": "stream",
     "text": [
      "#sqg, #cnots= (0, 12)\n"
     ]
    },
    {
     "data": {
      "text/plain": [
       "'H+H_minus='"
      ]
     },
     "metadata": {},
     "output_type": "display_data"
    },
    {
     "data": {
      "text/latex": [
       "$\\displaystyle 0.5 \\cdot {{1}\\otimes {\\sigma_{1}}}\\otimes {\\sigma_{1}} + 0.5 \\cdot {{1}\\otimes {\\sigma_{2}}}\\otimes {\\sigma_{2}} + 0.5 {{\\sigma_{1}}\\otimes {1}}\\otimes {\\sigma_{1}} + 0.5 {{\\sigma_{1}}\\otimes {\\sigma_{1}}}\\otimes {1} + 0.5 {{\\sigma_{2}}\\otimes {1}}\\otimes {\\sigma_{2}} + 0.5 {{\\sigma_{2}}\\otimes {\\sigma_{2}}}\\otimes {1}$"
      ],
      "text/plain": [
       "0.5*1xsigma1xsigma1 + 0.5*1xsigma2xsigma2 + 0.5*sigma1x1xsigma1 + 0.5*sigma1xsigma1x1 + 0.5*sigma2x1xsigma2 + 0.5*sigma2xsigma2x1"
      ]
     },
     "metadata": {},
     "output_type": "display_data"
    },
    {
     "name": "stdout",
     "output_type": "stream",
     "text": [
      "#sqg, #cnots= (0, 12)\n",
      "g(x)= -2*x0*x1*x2 + 4*x0*x1 + 4*x0*x2 - x0 + 4*x1*x2 - x1 - x2 + 1\n",
      "is zero for the following bitstrings:\n",
      "0 0 1\n",
      "0 1 0\n",
      "1 0 0\n"
     ]
    },
    {
     "data": {
      "text/plain": [
       "array([[0., 1., 0.],\n",
       "       [1., 0., 1.],\n",
       "       [0., 1., 0.]])"
      ]
     },
     "metadata": {},
     "output_type": "display_data"
    },
    {
     "name": "stdout",
     "output_type": "stream",
     "text": [
      "Hamming distance= (6, 4.2)\n"
     ]
    },
    {
     "data": {
      "text/plain": [
       "'H='"
      ]
     },
     "metadata": {},
     "output_type": "display_data"
    },
    {
     "data": {
      "text/latex": [
       "$\\displaystyle 0.25 \\cdot {{1}\\otimes {\\sigma_{1}}}\\otimes {\\sigma_{1}} + 0.25 \\cdot {{1}\\otimes {\\sigma_{2}}}\\otimes {\\sigma_{2}} + 0.25 {{\\sigma_{1}}\\otimes {\\sigma_{1}}}\\otimes {1} + 0.25 {{\\sigma_{1}}\\otimes {\\sigma_{1}}}\\otimes {\\sigma_{3}} + 0.25 {{\\sigma_{2}}\\otimes {\\sigma_{2}}}\\otimes {1} + 0.25 {{\\sigma_{2}}\\otimes {\\sigma_{2}}}\\otimes {\\sigma_{3}} + 0.25 {{\\sigma_{3}}\\otimes {\\sigma_{1}}}\\otimes {\\sigma_{1}} + 0.25 {{\\sigma_{3}}\\otimes {\\sigma_{2}}}\\otimes {\\sigma_{2}}$"
      ],
      "text/plain": [
       "0.25*1xsigma1xsigma1 + 0.25*1xsigma2xsigma2 + 0.25*sigma1xsigma1x1 + 0.25*sigma1xsigma1xsigma3 + 0.25*sigma2xsigma2x1 + 0.25*sigma2xsigma2xsigma3 + 0.25*sigma3xsigma1xsigma1 + 0.25*sigma3xsigma2xsigma2"
      ]
     },
     "metadata": {},
     "output_type": "display_data"
    },
    {
     "name": "stdout",
     "output_type": "stream",
     "text": [
      "#sqg, #cnots= (0, 24)\n"
     ]
    },
    {
     "data": {
      "text/plain": [
       "'H+H_neg='"
      ]
     },
     "metadata": {},
     "output_type": "display_data"
    },
    {
     "data": {
      "text/latex": [
       "$\\displaystyle 0.5 \\cdot {{1}\\otimes {\\sigma_{1}}}\\otimes {\\sigma_{1}} + 0.5 \\cdot {{1}\\otimes {\\sigma_{2}}}\\otimes {\\sigma_{2}} + 0.5 {{\\sigma_{1}}\\otimes {\\sigma_{1}}}\\otimes {1} + 0.5 {{\\sigma_{2}}\\otimes {\\sigma_{2}}}\\otimes {1}$"
      ],
      "text/plain": [
       "0.5*1xsigma1xsigma1 + 0.5*1xsigma2xsigma2 + 0.5*sigma1xsigma1x1 + 0.5*sigma2xsigma2x1"
      ]
     },
     "metadata": {},
     "output_type": "display_data"
    },
    {
     "name": "stdout",
     "output_type": "stream",
     "text": [
      "#sqg, #cnots= (0, 8)\n"
     ]
    },
    {
     "data": {
      "text/plain": [
       "'H+H_minus='"
      ]
     },
     "metadata": {},
     "output_type": "display_data"
    },
    {
     "data": {
      "text/latex": [
       "$\\displaystyle 0.5 \\cdot {{1}\\otimes {\\sigma_{1}}}\\otimes {\\sigma_{1}} + 0.5 \\cdot {{1}\\otimes {\\sigma_{2}}}\\otimes {\\sigma_{2}} + 0.5 {{\\sigma_{1}}\\otimes {\\sigma_{1}}}\\otimes {1} + 0.5 {{\\sigma_{2}}\\otimes {\\sigma_{2}}}\\otimes {1}$"
      ],
      "text/plain": [
       "0.5*1xsigma1xsigma1 + 0.5*1xsigma2xsigma2 + 0.5*sigma1xsigma1x1 + 0.5*sigma2xsigma2x1"
      ]
     },
     "metadata": {},
     "output_type": "display_data"
    },
    {
     "name": "stdout",
     "output_type": "stream",
     "text": [
      "#sqg, #cnots= (0, 8)\n",
      "g(x)= -2*x0*x1*x2 + 4*x0*x1 + 4*x0*x2 - x0 + 4*x1*x2 - x1 - x2 + 1\n",
      "is zero for the following bitstrings:\n",
      "0 0 1\n",
      "0 1 0\n",
      "1 0 0\n"
     ]
    }
   ],
   "source": [
    "T=np.ones((3,3))-2*np.identity(3)\n",
    "display(T)\n",
    "\n",
    "print_info(['100','010','001'],T)\n",
    "\n",
    "T=np.ones((3,3))-np.identity(3)\n",
    "display(T)\n",
    "\n",
    "print_info(['100','010','001'],T)\n",
    "\n",
    "T=np.ones((3,3))-np.identity(3)\n",
    "T[0,2]=0\n",
    "T[2,0]=0\n",
    "display(T)\n",
    "\n",
    "print_info(['100','010','001'],T)"
   ]
  },
  {
   "cell_type": "code",
   "execution_count": 22,
   "id": "db0c1e57",
   "metadata": {},
   "outputs": [
    {
     "data": {
      "text/plain": [
       "array([[0., 1., 0.],\n",
       "       [1., 0., 1.],\n",
       "       [0., 1., 0.]])"
      ]
     },
     "metadata": {},
     "output_type": "display_data"
    },
    {
     "name": "stdout",
     "output_type": "stream",
     "text": [
      "Hamming distance= (6, 4.2)\n"
     ]
    },
    {
     "data": {
      "text/plain": [
       "'H='"
      ]
     },
     "metadata": {},
     "output_type": "display_data"
    },
    {
     "data": {
      "text/latex": [
       "$\\displaystyle 0.25 \\cdot {{1}\\otimes {1}}\\otimes {\\sigma_{1}} - 0.25 \\cdot {{1}\\otimes {\\sigma_{3}}}\\otimes {\\sigma_{1}} + 0.25 {{\\sigma_{1}}\\otimes {\\sigma_{1}}}\\otimes {1} + 0.25 {{\\sigma_{1}}\\otimes {\\sigma_{1}}}\\otimes {\\sigma_{3}} + 0.25 {{\\sigma_{2}}\\otimes {\\sigma_{2}}}\\otimes {1} + 0.25 {{\\sigma_{2}}\\otimes {\\sigma_{2}}}\\otimes {\\sigma_{3}} + 0.25 {{\\sigma_{3}}\\otimes {1}}\\otimes {\\sigma_{1}} - 0.25 {{\\sigma_{3}}\\otimes {\\sigma_{3}}}\\otimes {\\sigma_{1}}$"
      ],
      "text/plain": [
       "0.25*1x1xsigma1 - 0.25*1xsigma3xsigma1 + 0.25*sigma1xsigma1x1 + 0.25*sigma1xsigma1xsigma3 + 0.25*sigma2xsigma2x1 + 0.25*sigma2xsigma2xsigma3 + 0.25*sigma3x1xsigma1 - 0.25*sigma3xsigma3xsigma1"
      ]
     },
     "metadata": {},
     "output_type": "display_data"
    },
    {
     "name": "stdout",
     "output_type": "stream",
     "text": [
      "#sqg, #cnots= (1, 20)\n",
      "overlap with bitwise negated stringlist = ['100', '011']\n",
      "minus = ['101']\n",
      "g(x)= -2*x0*x1*x2 + 4*x0*x1 + 4*x0*x2 - 2*x0 - 2*x1*x2 - 2*x1 + 2*x2 + 2\n",
      "is zero for the following bitstrings:\n",
      "0 1 0\n",
      "0 1 1\n",
      "1 0 0\n",
      "m,2**n 3 8\n",
      "minus = ['101']\n",
      "minus = ['101']\n",
      "add minus = ['001', '111', '110']\n"
     ]
    },
    {
     "data": {
      "text/plain": [
       "'H='"
      ]
     },
     "metadata": {},
     "output_type": "display_data"
    },
    {
     "data": {
      "text/latex": [
       "$\\displaystyle 0.5 \\cdot {{1}\\otimes {1}}\\otimes {\\sigma_{1}} - 0.5 \\cdot {{1}\\otimes {\\sigma_{3}}}\\otimes {\\sigma_{1}} + 0.5 {{\\sigma_{1}}\\otimes {\\sigma_{1}}}\\otimes {1} + 0.5 {{\\sigma_{2}}\\otimes {\\sigma_{2}}}\\otimes {\\sigma_{3}}$"
      ],
      "text/plain": [
       "0.5*1x1xsigma1 - 0.5*1xsigma3xsigma1 + 0.5*sigma1xsigma1x1 + 0.5*sigma2xsigma2xsigma3"
      ]
     },
     "metadata": {},
     "output_type": "display_data"
    },
    {
     "name": "stdout",
     "output_type": "stream",
     "text": [
      "#sqg, #cnots= (1, 8)\n"
     ]
    }
   ],
   "source": [
    "T=np.ones((3,3))-np.identity(3)\n",
    "T[0,2]=0\n",
    "T[2,0]=0\n",
    "display(T)\n",
    "\n",
    "print_info(['100','010','011'],T)\n",
    "print_info2(['100','010','011'],T)"
   ]
  },
  {
   "cell_type": "code",
   "execution_count": 23,
   "id": "9f5c3766",
   "metadata": {},
   "outputs": [],
   "source": [
    "# for i in range(3):\n",
    "#     for j in range(i+1):\n",
    "#         T=np.zeros((3,3))\n",
    "#         T[i,j]=1\n",
    "#         T[j,i]=1\n",
    "#         display(T)\n",
    "# #         print_info(['100','010','001'],T,disp_d=False,disp_g=False,disp_neg=False,disp_H=False)\n",
    "#         print_info2(['100','010','001'],T)"
   ]
  },
  {
   "cell_type": "code",
   "execution_count": 24,
   "id": "7ede7cd4",
   "metadata": {},
   "outputs": [],
   "source": [
    "#     T=np.zeros((2,2))\n",
    "#     str_lst=['0110','1011']\n",
    "#     T[0,1]=1\n",
    "#     T[1,0]=1\n",
    "#     display(T,str_lst)\n",
    "#     print_info(str_lst,T)"
   ]
  },
  {
   "cell_type": "code",
   "execution_count": 25,
   "id": "f8070fd6",
   "metadata": {},
   "outputs": [
    {
     "data": {
      "text/plain": [
       "array([[0., 1.],\n",
       "       [1., 0.]])"
      ]
     },
     "metadata": {},
     "output_type": "display_data"
    },
    {
     "data": {
      "text/plain": [
       "['11', '00']"
      ]
     },
     "metadata": {},
     "output_type": "display_data"
    },
    {
     "name": "stdout",
     "output_type": "stream",
     "text": [
      "Hamming distance= (2, 0.2)\n"
     ]
    },
    {
     "data": {
      "text/plain": [
       "'H='"
      ]
     },
     "metadata": {},
     "output_type": "display_data"
    },
    {
     "data": {
      "text/latex": [
       "$\\displaystyle 0.5 {\\sigma_{1}}\\otimes {\\sigma_{1}} - 0.5 {\\sigma_{2}}\\otimes {\\sigma_{2}}$"
      ],
      "text/plain": [
       "0.5*sigma1xsigma1 - 0.5*sigma2xsigma2"
      ]
     },
     "metadata": {},
     "output_type": "display_data"
    },
    {
     "name": "stdout",
     "output_type": "stream",
     "text": [
      "#sqg, #cnots= (0, 4)\n",
      "overlap with bitwise negated stringlist = ['11', '00']\n",
      "minus = []\n",
      "g(x)= -2*x0*x1 + x0 + x1\n",
      "is zero for the following bitstrings:\n",
      "0 0\n",
      "1 1\n"
     ]
    },
    {
     "data": {
      "text/plain": [
       "array([[0., 1.],\n",
       "       [1., 0.]])"
      ]
     },
     "metadata": {},
     "output_type": "display_data"
    },
    {
     "data": {
      "text/plain": [
       "['10', '01']"
      ]
     },
     "metadata": {},
     "output_type": "display_data"
    },
    {
     "name": "stdout",
     "output_type": "stream",
     "text": [
      "Hamming distance= (2, 0.2)\n"
     ]
    },
    {
     "data": {
      "text/plain": [
       "'H='"
      ]
     },
     "metadata": {},
     "output_type": "display_data"
    },
    {
     "data": {
      "text/latex": [
       "$\\displaystyle 0.5 {\\sigma_{1}}\\otimes {\\sigma_{1}} + 0.5 {\\sigma_{2}}\\otimes {\\sigma_{2}}$"
      ],
      "text/plain": [
       "0.5*sigma1xsigma1 + 0.5*sigma2xsigma2"
      ]
     },
     "metadata": {},
     "output_type": "display_data"
    },
    {
     "name": "stdout",
     "output_type": "stream",
     "text": [
      "#sqg, #cnots= (0, 4)\n",
      "overlap with bitwise negated stringlist = ['10', '01']\n",
      "minus = []\n",
      "g(x)= 2*x0*x1 - x0 - x1 + 1\n",
      "is zero for the following bitstrings:\n",
      "0 1\n",
      "1 0\n"
     ]
    }
   ],
   "source": [
    "    T=np.zeros((2,2))\n",
    "    T[0,1]=1\n",
    "    T[1,0]=1\n",
    "    \n",
    "    str_lst=['11', '00']\n",
    "    display(T,str_lst)\n",
    "    print_info(str_lst,T)\n",
    "    \n",
    "    str_lst=['10', '01']\n",
    "    display(T,str_lst)\n",
    "    print_info(str_lst,T)"
   ]
  },
  {
   "cell_type": "code",
   "execution_count": 6,
   "id": "72144ec0",
   "metadata": {},
   "outputs": [
    {
     "name": "stdout",
     "output_type": "stream",
     "text": [
      "----------------------\n",
      "\n"
     ]
    },
    {
     "data": {
      "text/plain": [
       "array([[0., 1.],\n",
       "       [1., 0.]])"
      ]
     },
     "metadata": {},
     "output_type": "display_data"
    },
    {
     "data": {
      "text/plain": [
       "['01', '10']"
      ]
     },
     "metadata": {},
     "output_type": "display_data"
    },
    {
     "name": "stdout",
     "output_type": "stream",
     "text": [
      "----------------------\n",
      "\n"
     ]
    },
    {
     "data": {
      "text/plain": [
       "array([[0., 1.],\n",
       "       [1., 0.]])"
      ]
     },
     "metadata": {},
     "output_type": "display_data"
    },
    {
     "data": {
      "text/plain": [
       "['010', '100']"
      ]
     },
     "metadata": {},
     "output_type": "display_data"
    },
    {
     "name": "stdout",
     "output_type": "stream",
     "text": [
      "----------------------\n",
      "\n"
     ]
    },
    {
     "data": {
      "text/plain": [
       "array([[0., 1.],\n",
       "       [1., 0.]])"
      ]
     },
     "metadata": {},
     "output_type": "display_data"
    },
    {
     "data": {
      "text/plain": [
       "['0100', '1000']"
      ]
     },
     "metadata": {},
     "output_type": "display_data"
    },
    {
     "name": "stdout",
     "output_type": "stream",
     "text": [
      "----------------------\n",
      "\n"
     ]
    },
    {
     "data": {
      "text/plain": [
       "array([[0., 1.],\n",
       "       [1., 0.]])"
      ]
     },
     "metadata": {},
     "output_type": "display_data"
    },
    {
     "data": {
      "text/plain": [
       "['01000', '10000']"
      ]
     },
     "metadata": {},
     "output_type": "display_data"
    },
    {
     "name": "stdout",
     "output_type": "stream",
     "text": [
      "----------------------\n",
      "\n"
     ]
    },
    {
     "data": {
      "text/plain": [
       "array([[0., 1.],\n",
       "       [1., 0.]])"
      ]
     },
     "metadata": {},
     "output_type": "display_data"
    },
    {
     "data": {
      "text/plain": [
       "['010000', '100000']"
      ]
     },
     "metadata": {},
     "output_type": "display_data"
    },
    {
     "name": "stdout",
     "output_type": "stream",
     "text": [
      "----------------------\n",
      "\n"
     ]
    },
    {
     "data": {
      "text/plain": [
       "array([[0., 1.],\n",
       "       [1., 0.]])"
      ]
     },
     "metadata": {},
     "output_type": "display_data"
    },
    {
     "data": {
      "text/plain": [
       "['0100000', '1000000']"
      ]
     },
     "metadata": {},
     "output_type": "display_data"
    }
   ],
   "source": [
    "for n in range(2,8):\n",
    "    print(\"----------------------\")\n",
    "    print(\"\")\n",
    "    T=np.zeros((2,2))\n",
    "    T[0,1]=1\n",
    "    T[1,0]=1\n",
    "    str_lst=[]\n",
    "    str_tmp='01'\n",
    "    for j in range(n-2):\n",
    "        str_tmp+=\"0\"\n",
    "    str_lst.append(str_tmp)\n",
    "    str_tmp='10'\n",
    "    for j in range(n-2):\n",
    "        str_tmp+=\"0\"\n",
    "    str_lst.append(str_tmp)\n",
    "    display(T,str_lst)\n",
    "\n",
    "    H=get_H(str_lst,T)\n",
    "#     display(H)\n",
    "    H=simplifyH(H)\n",
    "    num_Cnot(H)"
   ]
  },
  {
   "cell_type": "code",
   "execution_count": 27,
   "id": "bc3607a6",
   "metadata": {
    "scrolled": false
   },
   "outputs": [
    {
     "name": "stdout",
     "output_type": "stream",
     "text": [
      "----------------------\n",
      "\n"
     ]
    },
    {
     "data": {
      "text/plain": [
       "array([[0., 1.],\n",
       "       [1., 0.]])"
      ]
     },
     "metadata": {},
     "output_type": "display_data"
    },
    {
     "data": {
      "text/plain": [
       "['10', '01']"
      ]
     },
     "metadata": {},
     "output_type": "display_data"
    },
    {
     "name": "stdout",
     "output_type": "stream",
     "text": [
      "m,2**n 2 4\n",
      "minus = []\n",
      "add minus = ['00', '11']\n"
     ]
    },
    {
     "data": {
      "text/plain": [
       "'H='"
      ]
     },
     "metadata": {},
     "output_type": "display_data"
    },
    {
     "data": {
      "text/latex": [
       "$\\displaystyle 1.0 {\\sigma_{1}}\\otimes {\\sigma_{1}}$"
      ],
      "text/plain": [
       "1.0*sigma1xsigma1"
      ]
     },
     "metadata": {},
     "output_type": "display_data"
    },
    {
     "name": "stdout",
     "output_type": "stream",
     "text": [
      "#sqg, #cnots= (0, 2)\n",
      "----------------------\n",
      "\n"
     ]
    },
    {
     "data": {
      "text/plain": [
       "array([[0., 1., 0.],\n",
       "       [1., 0., 1.],\n",
       "       [0., 1., 0.]])"
      ]
     },
     "metadata": {},
     "output_type": "display_data"
    },
    {
     "data": {
      "text/plain": [
       "['100', '010', '001']"
      ]
     },
     "metadata": {},
     "output_type": "display_data"
    },
    {
     "name": "stdout",
     "output_type": "stream",
     "text": [
      "m,2**n 3 8\n",
      "add minus = ['011', '101', '110']\n"
     ]
    },
    {
     "data": {
      "text/plain": [
       "'H='"
      ]
     },
     "metadata": {},
     "output_type": "display_data"
    },
    {
     "data": {
      "text/latex": [
       "$\\displaystyle 0.5 \\cdot {{1}\\otimes {\\sigma_{1}}}\\otimes {\\sigma_{1}} + 0.5 \\cdot {{1}\\otimes {\\sigma_{2}}}\\otimes {\\sigma_{2}} + 0.5 {{\\sigma_{1}}\\otimes {\\sigma_{1}}}\\otimes {1} + 0.5 {{\\sigma_{2}}\\otimes {\\sigma_{2}}}\\otimes {1}$"
      ],
      "text/plain": [
       "0.5*1xsigma1xsigma1 + 0.5*1xsigma2xsigma2 + 0.5*sigma1xsigma1x1 + 0.5*sigma2xsigma2x1"
      ]
     },
     "metadata": {},
     "output_type": "display_data"
    },
    {
     "name": "stdout",
     "output_type": "stream",
     "text": [
      "#sqg, #cnots= (0, 8)\n",
      "----------------------\n",
      "\n"
     ]
    },
    {
     "data": {
      "text/plain": [
       "array([[0., 1., 0., 0.],\n",
       "       [1., 0., 1., 0.],\n",
       "       [0., 1., 0., 1.],\n",
       "       [0., 0., 1., 0.]])"
      ]
     },
     "metadata": {},
     "output_type": "display_data"
    },
    {
     "data": {
      "text/plain": [
       "['1000', '0100', '0010', '0001']"
      ]
     },
     "metadata": {},
     "output_type": "display_data"
    },
    {
     "name": "stdout",
     "output_type": "stream",
     "text": [
      "m,2**n 4 16\n",
      "add minus = ['0111', '1011', '1101', '1110']\n"
     ]
    },
    {
     "data": {
      "text/plain": [
       "'H='"
      ]
     },
     "metadata": {},
     "output_type": "display_data"
    },
    {
     "data": {
      "text/latex": [
       "$\\displaystyle 0.25 \\cdot {{{1}\\otimes {1}}\\otimes {\\sigma_{1}}}\\otimes {\\sigma_{1}} + 0.25 \\cdot {{{1}\\otimes {1}}\\otimes {\\sigma_{2}}}\\otimes {\\sigma_{2}} + 0.25 \\cdot {{{1}\\otimes {\\sigma_{1}}}\\otimes {\\sigma_{1}}}\\otimes {1} + 0.25 \\cdot {{{1}\\otimes {\\sigma_{2}}}\\otimes {\\sigma_{2}}}\\otimes {1} + 0.25 {{{\\sigma_{1}}\\otimes {\\sigma_{1}}}\\otimes {1}}\\otimes {1} + 0.25 {{{\\sigma_{1}}\\otimes {\\sigma_{1}}}\\otimes {\\sigma_{3}}}\\otimes {\\sigma_{3}} + 0.25 {{{\\sigma_{2}}\\otimes {\\sigma_{2}}}\\otimes {1}}\\otimes {1} + 0.25 {{{\\sigma_{2}}\\otimes {\\sigma_{2}}}\\otimes {\\sigma_{3}}}\\otimes {\\sigma_{3}} + 0.25 {{{\\sigma_{3}}\\otimes {\\sigma_{1}}}\\otimes {\\sigma_{1}}}\\otimes {\\sigma_{3}} + 0.25 {{{\\sigma_{3}}\\otimes {\\sigma_{2}}}\\otimes {\\sigma_{2}}}\\otimes {\\sigma_{3}} + 0.25 {{{\\sigma_{3}}\\otimes {\\sigma_{3}}}\\otimes {\\sigma_{1}}}\\otimes {\\sigma_{1}} + 0.25 {{{\\sigma_{3}}\\otimes {\\sigma_{3}}}\\otimes {\\sigma_{2}}}\\otimes {\\sigma_{2}}$"
      ],
      "text/plain": [
       "0.25*1x1xsigma1xsigma1 + 0.25*1x1xsigma2xsigma2 + 0.25*1xsigma1xsigma1x1 + 0.25*1xsigma2xsigma2x1 + 0.25*sigma1xsigma1x1x1 + 0.25*sigma1xsigma1xsigma3xsigma3 + 0.25*sigma2xsigma2x1x1 + 0.25*sigma2xsigma2xsigma3xsigma3 + 0.25*sigma3xsigma1xsigma1xsigma3 + 0.25*sigma3xsigma2xsigma2xsigma3 + 0.25*sigma3xsigma3xsigma1xsigma1 + 0.25*sigma3xsigma3xsigma2xsigma2"
      ]
     },
     "metadata": {},
     "output_type": "display_data"
    },
    {
     "name": "stdout",
     "output_type": "stream",
     "text": [
      "#sqg, #cnots= (0, 48)\n",
      "----------------------\n",
      "\n"
     ]
    },
    {
     "data": {
      "text/plain": [
       "array([[0., 1., 0., 0., 0.],\n",
       "       [1., 0., 1., 0., 0.],\n",
       "       [0., 1., 0., 1., 0.],\n",
       "       [0., 0., 1., 0., 1.],\n",
       "       [0., 0., 0., 1., 0.]])"
      ]
     },
     "metadata": {},
     "output_type": "display_data"
    },
    {
     "data": {
      "text/plain": [
       "['10000', '01000', '00100', '00010', '00001']"
      ]
     },
     "metadata": {},
     "output_type": "display_data"
    },
    {
     "name": "stdout",
     "output_type": "stream",
     "text": [
      "m,2**n 5 32\n",
      "add minus = ['01111', '10111', '11011', '11101', '11110']\n"
     ]
    },
    {
     "data": {
      "text/plain": [
       "'H='"
      ]
     },
     "metadata": {},
     "output_type": "display_data"
    },
    {
     "data": {
      "text/latex": [
       "$\\displaystyle 0.125 \\cdot {{{{1}\\otimes {1}}\\otimes {1}}\\otimes {\\sigma_{1}}}\\otimes {\\sigma_{1}} + 0.125 \\cdot {{{{1}\\otimes {1}}\\otimes {1}}\\otimes {\\sigma_{2}}}\\otimes {\\sigma_{2}} + 0.125 \\cdot {{{{1}\\otimes {1}}\\otimes {\\sigma_{1}}}\\otimes {\\sigma_{1}}}\\otimes {1} + 0.125 \\cdot {{{{1}\\otimes {1}}\\otimes {\\sigma_{2}}}\\otimes {\\sigma_{2}}}\\otimes {1} + 0.125 \\cdot {{{{1}\\otimes {\\sigma_{1}}}\\otimes {\\sigma_{1}}}\\otimes {1}}\\otimes {1} + 0.125 \\cdot {{{{1}\\otimes {\\sigma_{1}}}\\otimes {\\sigma_{1}}}\\otimes {\\sigma_{3}}}\\otimes {\\sigma_{3}} + 0.125 \\cdot {{{{1}\\otimes {\\sigma_{2}}}\\otimes {\\sigma_{2}}}\\otimes {1}}\\otimes {1} + 0.125 \\cdot {{{{1}\\otimes {\\sigma_{2}}}\\otimes {\\sigma_{2}}}\\otimes {\\sigma_{3}}}\\otimes {\\sigma_{3}} + 0.125 \\cdot {{{{1}\\otimes {\\sigma_{3}}}\\otimes {\\sigma_{1}}}\\otimes {\\sigma_{1}}}\\otimes {\\sigma_{3}} + 0.125 \\cdot {{{{1}\\otimes {\\sigma_{3}}}\\otimes {\\sigma_{2}}}\\otimes {\\sigma_{2}}}\\otimes {\\sigma_{3}} + 0.125 \\cdot {{{{1}\\otimes {\\sigma_{3}}}\\otimes {\\sigma_{3}}}\\otimes {\\sigma_{1}}}\\otimes {\\sigma_{1}} + 0.125 \\cdot {{{{1}\\otimes {\\sigma_{3}}}\\otimes {\\sigma_{3}}}\\otimes {\\sigma_{2}}}\\otimes {\\sigma_{2}} + 0.125 {{{{\\sigma_{1}}\\otimes {\\sigma_{1}}}\\otimes {1}}\\otimes {1}}\\otimes {1} + 0.125 {{{{\\sigma_{1}}\\otimes {\\sigma_{1}}}\\otimes {1}}\\otimes {\\sigma_{3}}}\\otimes {\\sigma_{3}} + 0.125 {{{{\\sigma_{1}}\\otimes {\\sigma_{1}}}\\otimes {\\sigma_{3}}}\\otimes {1}}\\otimes {\\sigma_{3}} + 0.125 {{{{\\sigma_{1}}\\otimes {\\sigma_{1}}}\\otimes {\\sigma_{3}}}\\otimes {\\sigma_{3}}}\\otimes {1} + 0.125 {{{{\\sigma_{2}}\\otimes {\\sigma_{2}}}\\otimes {1}}\\otimes {1}}\\otimes {1} + 0.125 {{{{\\sigma_{2}}\\otimes {\\sigma_{2}}}\\otimes {1}}\\otimes {\\sigma_{3}}}\\otimes {\\sigma_{3}} + 0.125 {{{{\\sigma_{2}}\\otimes {\\sigma_{2}}}\\otimes {\\sigma_{3}}}\\otimes {1}}\\otimes {\\sigma_{3}} + 0.125 {{{{\\sigma_{2}}\\otimes {\\sigma_{2}}}\\otimes {\\sigma_{3}}}\\otimes {\\sigma_{3}}}\\otimes {1} + 0.125 {{{{\\sigma_{3}}\\otimes {1}}\\otimes {\\sigma_{1}}}\\otimes {\\sigma_{1}}}\\otimes {\\sigma_{3}} + 0.125 {{{{\\sigma_{3}}\\otimes {1}}\\otimes {\\sigma_{2}}}\\otimes {\\sigma_{2}}}\\otimes {\\sigma_{3}} + 0.125 {{{{\\sigma_{3}}\\otimes {1}}\\otimes {\\sigma_{3}}}\\otimes {\\sigma_{1}}}\\otimes {\\sigma_{1}} + 0.125 {{{{\\sigma_{3}}\\otimes {1}}\\otimes {\\sigma_{3}}}\\otimes {\\sigma_{2}}}\\otimes {\\sigma_{2}} + 0.125 {{{{\\sigma_{3}}\\otimes {\\sigma_{1}}}\\otimes {\\sigma_{1}}}\\otimes {1}}\\otimes {\\sigma_{3}} + 0.125 {{{{\\sigma_{3}}\\otimes {\\sigma_{1}}}\\otimes {\\sigma_{1}}}\\otimes {\\sigma_{3}}}\\otimes {1} + 0.125 {{{{\\sigma_{3}}\\otimes {\\sigma_{2}}}\\otimes {\\sigma_{2}}}\\otimes {1}}\\otimes {\\sigma_{3}} + 0.125 {{{{\\sigma_{3}}\\otimes {\\sigma_{2}}}\\otimes {\\sigma_{2}}}\\otimes {\\sigma_{3}}}\\otimes {1} + 0.125 {{{{\\sigma_{3}}\\otimes {\\sigma_{3}}}\\otimes {1}}\\otimes {\\sigma_{1}}}\\otimes {\\sigma_{1}} + 0.125 {{{{\\sigma_{3}}\\otimes {\\sigma_{3}}}\\otimes {1}}\\otimes {\\sigma_{2}}}\\otimes {\\sigma_{2}} + 0.125 {{{{\\sigma_{3}}\\otimes {\\sigma_{3}}}\\otimes {\\sigma_{1}}}\\otimes {\\sigma_{1}}}\\otimes {1} + 0.125 {{{{\\sigma_{3}}\\otimes {\\sigma_{3}}}\\otimes {\\sigma_{2}}}\\otimes {\\sigma_{2}}}\\otimes {1}$"
      ],
      "text/plain": [
       "0.125*1x1x1xsigma1xsigma1 + 0.125*1x1x1xsigma2xsigma2 + 0.125*1x1xsigma1xsigma1x1 + 0.125*1x1xsigma2xsigma2x1 + 0.125*1xsigma1xsigma1x1x1 + 0.125*1xsigma1xsigma1xsigma3xsigma3 + 0.125*1xsigma2xsigma2x1x1 + 0.125*1xsigma2xsigma2xsigma3xsigma3 + 0.125*1xsigma3xsigma1xsigma1xsigma3 + 0.125*1xsigma3xsigma2xsigma2xsigma3 + 0.125*1xsigma3xsigma3xsigma1xsigma1 + 0.125*1xsigma3xsigma3xsigma2xsigma2 + 0.125*sigma1xsigma1x1x1x1 + 0.125*sigma1xsigma1x1xsigma3xsigma3 + 0.125*sigma1xsigma1xsigma3x1xsigma3 + 0.125*sigma1xsigma1xsigma3xsigma3x1 + 0.125*sigma2xsigma2x1x1x1 + 0.125*sigma2xsigma2x1xsigma3xsigma3 + 0.125*sigma2xsigma2xsigma3x1xsigma3 + 0.125*sigma2xsigma2xsigma3xsigma3x1 + 0.125*sigma3x1xsigma1xsigma1xsigma3 + 0.125*sigma3x1xsigma2xsigma2xsigma3 + 0.125*sigma3x1xsigma3xsigma1xsigma1 + 0.125*sigma3x1xsigma3xsigma2xsigma2 + 0.125*sigma3xsigma1xsigma1x1xsigma3 + 0.125*sigma3xsigma1xsigma1xsigma3x1 + 0.125*sigma3xsigma2xsigma2x1xsigma3 + 0.125*sigma3xsigma2xsigma2xsigma3x1 + 0.125*sigma3xsigma3x1xsigma1xsigma1 + 0.125*sigma3xsigma3x1xsigma2xsigma2 + 0.125*sigma3xsigma3xsigma1xsigma1x1 + 0.125*sigma3xsigma3xsigma2xsigma2x1"
      ]
     },
     "metadata": {},
     "output_type": "display_data"
    },
    {
     "name": "stdout",
     "output_type": "stream",
     "text": [
      "#sqg, #cnots= (0, 160)\n",
      "----------------------\n",
      "\n"
     ]
    },
    {
     "data": {
      "text/plain": [
       "array([[0., 1., 0., 0., 0., 0.],\n",
       "       [1., 0., 1., 0., 0., 0.],\n",
       "       [0., 1., 0., 1., 0., 0.],\n",
       "       [0., 0., 1., 0., 1., 0.],\n",
       "       [0., 0., 0., 1., 0., 1.],\n",
       "       [0., 0., 0., 0., 1., 0.]])"
      ]
     },
     "metadata": {},
     "output_type": "display_data"
    },
    {
     "data": {
      "text/plain": [
       "['100000', '010000', '001000', '000100', '000010', '000001']"
      ]
     },
     "metadata": {},
     "output_type": "display_data"
    },
    {
     "name": "stdout",
     "output_type": "stream",
     "text": [
      "m,2**n 6 64\n",
      "add minus = ['011111', '101111', '110111', '111011', '111101', '111110']\n"
     ]
    },
    {
     "data": {
      "text/plain": [
       "'H='"
      ]
     },
     "metadata": {},
     "output_type": "display_data"
    },
    {
     "data": {
      "text/latex": [
       "$\\displaystyle 0.0625 \\cdot {{{{{1}\\otimes {1}}\\otimes {1}}\\otimes {1}}\\otimes {\\sigma_{1}}}\\otimes {\\sigma_{1}} + 0.0625 \\cdot {{{{{1}\\otimes {1}}\\otimes {1}}\\otimes {1}}\\otimes {\\sigma_{2}}}\\otimes {\\sigma_{2}} + 0.0625 \\cdot {{{{{1}\\otimes {1}}\\otimes {1}}\\otimes {\\sigma_{1}}}\\otimes {\\sigma_{1}}}\\otimes {1} + 0.0625 \\cdot {{{{{1}\\otimes {1}}\\otimes {1}}\\otimes {\\sigma_{2}}}\\otimes {\\sigma_{2}}}\\otimes {1} + 0.0625 \\cdot {{{{{1}\\otimes {1}}\\otimes {\\sigma_{1}}}\\otimes {\\sigma_{1}}}\\otimes {1}}\\otimes {1} + 0.0625 \\cdot {{{{{1}\\otimes {1}}\\otimes {\\sigma_{1}}}\\otimes {\\sigma_{1}}}\\otimes {\\sigma_{3}}}\\otimes {\\sigma_{3}} + 0.0625 \\cdot {{{{{1}\\otimes {1}}\\otimes {\\sigma_{2}}}\\otimes {\\sigma_{2}}}\\otimes {1}}\\otimes {1} + 0.0625 \\cdot {{{{{1}\\otimes {1}}\\otimes {\\sigma_{2}}}\\otimes {\\sigma_{2}}}\\otimes {\\sigma_{3}}}\\otimes {\\sigma_{3}} + 0.0625 \\cdot {{{{{1}\\otimes {1}}\\otimes {\\sigma_{3}}}\\otimes {\\sigma_{1}}}\\otimes {\\sigma_{1}}}\\otimes {\\sigma_{3}} + 0.0625 \\cdot {{{{{1}\\otimes {1}}\\otimes {\\sigma_{3}}}\\otimes {\\sigma_{2}}}\\otimes {\\sigma_{2}}}\\otimes {\\sigma_{3}} + 0.0625 \\cdot {{{{{1}\\otimes {1}}\\otimes {\\sigma_{3}}}\\otimes {\\sigma_{3}}}\\otimes {\\sigma_{1}}}\\otimes {\\sigma_{1}} + 0.0625 \\cdot {{{{{1}\\otimes {1}}\\otimes {\\sigma_{3}}}\\otimes {\\sigma_{3}}}\\otimes {\\sigma_{2}}}\\otimes {\\sigma_{2}} + 0.0625 \\cdot {{{{{1}\\otimes {\\sigma_{1}}}\\otimes {\\sigma_{1}}}\\otimes {1}}\\otimes {1}}\\otimes {1} + 0.0625 \\cdot {{{{{1}\\otimes {\\sigma_{1}}}\\otimes {\\sigma_{1}}}\\otimes {1}}\\otimes {\\sigma_{3}}}\\otimes {\\sigma_{3}} + 0.0625 \\cdot {{{{{1}\\otimes {\\sigma_{1}}}\\otimes {\\sigma_{1}}}\\otimes {\\sigma_{3}}}\\otimes {1}}\\otimes {\\sigma_{3}} + 0.0625 \\cdot {{{{{1}\\otimes {\\sigma_{1}}}\\otimes {\\sigma_{1}}}\\otimes {\\sigma_{3}}}\\otimes {\\sigma_{3}}}\\otimes {1} + 0.0625 \\cdot {{{{{1}\\otimes {\\sigma_{2}}}\\otimes {\\sigma_{2}}}\\otimes {1}}\\otimes {1}}\\otimes {1} + 0.0625 \\cdot {{{{{1}\\otimes {\\sigma_{2}}}\\otimes {\\sigma_{2}}}\\otimes {1}}\\otimes {\\sigma_{3}}}\\otimes {\\sigma_{3}} + 0.0625 \\cdot {{{{{1}\\otimes {\\sigma_{2}}}\\otimes {\\sigma_{2}}}\\otimes {\\sigma_{3}}}\\otimes {1}}\\otimes {\\sigma_{3}} + 0.0625 \\cdot {{{{{1}\\otimes {\\sigma_{2}}}\\otimes {\\sigma_{2}}}\\otimes {\\sigma_{3}}}\\otimes {\\sigma_{3}}}\\otimes {1} + 0.0625 \\cdot {{{{{1}\\otimes {\\sigma_{3}}}\\otimes {1}}\\otimes {\\sigma_{1}}}\\otimes {\\sigma_{1}}}\\otimes {\\sigma_{3}} + 0.0625 \\cdot {{{{{1}\\otimes {\\sigma_{3}}}\\otimes {1}}\\otimes {\\sigma_{2}}}\\otimes {\\sigma_{2}}}\\otimes {\\sigma_{3}} + 0.0625 \\cdot {{{{{1}\\otimes {\\sigma_{3}}}\\otimes {1}}\\otimes {\\sigma_{3}}}\\otimes {\\sigma_{1}}}\\otimes {\\sigma_{1}} + 0.0625 \\cdot {{{{{1}\\otimes {\\sigma_{3}}}\\otimes {1}}\\otimes {\\sigma_{3}}}\\otimes {\\sigma_{2}}}\\otimes {\\sigma_{2}} + 0.0625 \\cdot {{{{{1}\\otimes {\\sigma_{3}}}\\otimes {\\sigma_{1}}}\\otimes {\\sigma_{1}}}\\otimes {1}}\\otimes {\\sigma_{3}} + 0.0625 \\cdot {{{{{1}\\otimes {\\sigma_{3}}}\\otimes {\\sigma_{1}}}\\otimes {\\sigma_{1}}}\\otimes {\\sigma_{3}}}\\otimes {1} + 0.0625 \\cdot {{{{{1}\\otimes {\\sigma_{3}}}\\otimes {\\sigma_{2}}}\\otimes {\\sigma_{2}}}\\otimes {1}}\\otimes {\\sigma_{3}} + 0.0625 \\cdot {{{{{1}\\otimes {\\sigma_{3}}}\\otimes {\\sigma_{2}}}\\otimes {\\sigma_{2}}}\\otimes {\\sigma_{3}}}\\otimes {1} + 0.0625 \\cdot {{{{{1}\\otimes {\\sigma_{3}}}\\otimes {\\sigma_{3}}}\\otimes {1}}\\otimes {\\sigma_{1}}}\\otimes {\\sigma_{1}} + 0.0625 \\cdot {{{{{1}\\otimes {\\sigma_{3}}}\\otimes {\\sigma_{3}}}\\otimes {1}}\\otimes {\\sigma_{2}}}\\otimes {\\sigma_{2}} + 0.0625 \\cdot {{{{{1}\\otimes {\\sigma_{3}}}\\otimes {\\sigma_{3}}}\\otimes {\\sigma_{1}}}\\otimes {\\sigma_{1}}}\\otimes {1} + 0.0625 \\cdot {{{{{1}\\otimes {\\sigma_{3}}}\\otimes {\\sigma_{3}}}\\otimes {\\sigma_{2}}}\\otimes {\\sigma_{2}}}\\otimes {1} + 0.0625 {{{{{\\sigma_{1}}\\otimes {\\sigma_{1}}}\\otimes {1}}\\otimes {1}}\\otimes {1}}\\otimes {1} + 0.0625 {{{{{\\sigma_{1}}\\otimes {\\sigma_{1}}}\\otimes {1}}\\otimes {1}}\\otimes {\\sigma_{3}}}\\otimes {\\sigma_{3}} + 0.0625 {{{{{\\sigma_{1}}\\otimes {\\sigma_{1}}}\\otimes {1}}\\otimes {\\sigma_{3}}}\\otimes {1}}\\otimes {\\sigma_{3}} + 0.0625 {{{{{\\sigma_{1}}\\otimes {\\sigma_{1}}}\\otimes {1}}\\otimes {\\sigma_{3}}}\\otimes {\\sigma_{3}}}\\otimes {1} + 0.0625 {{{{{\\sigma_{1}}\\otimes {\\sigma_{1}}}\\otimes {\\sigma_{3}}}\\otimes {1}}\\otimes {1}}\\otimes {\\sigma_{3}} + 0.0625 {{{{{\\sigma_{1}}\\otimes {\\sigma_{1}}}\\otimes {\\sigma_{3}}}\\otimes {1}}\\otimes {\\sigma_{3}}}\\otimes {1} + 0.0625 {{{{{\\sigma_{1}}\\otimes {\\sigma_{1}}}\\otimes {\\sigma_{3}}}\\otimes {\\sigma_{3}}}\\otimes {1}}\\otimes {1} + 0.0625 {{{{{\\sigma_{1}}\\otimes {\\sigma_{1}}}\\otimes {\\sigma_{3}}}\\otimes {\\sigma_{3}}}\\otimes {\\sigma_{3}}}\\otimes {\\sigma_{3}} + 0.0625 {{{{{\\sigma_{2}}\\otimes {\\sigma_{2}}}\\otimes {1}}\\otimes {1}}\\otimes {1}}\\otimes {1} + 0.0625 {{{{{\\sigma_{2}}\\otimes {\\sigma_{2}}}\\otimes {1}}\\otimes {1}}\\otimes {\\sigma_{3}}}\\otimes {\\sigma_{3}} + 0.0625 {{{{{\\sigma_{2}}\\otimes {\\sigma_{2}}}\\otimes {1}}\\otimes {\\sigma_{3}}}\\otimes {1}}\\otimes {\\sigma_{3}} + 0.0625 {{{{{\\sigma_{2}}\\otimes {\\sigma_{2}}}\\otimes {1}}\\otimes {\\sigma_{3}}}\\otimes {\\sigma_{3}}}\\otimes {1} + 0.0625 {{{{{\\sigma_{2}}\\otimes {\\sigma_{2}}}\\otimes {\\sigma_{3}}}\\otimes {1}}\\otimes {1}}\\otimes {\\sigma_{3}} + 0.0625 {{{{{\\sigma_{2}}\\otimes {\\sigma_{2}}}\\otimes {\\sigma_{3}}}\\otimes {1}}\\otimes {\\sigma_{3}}}\\otimes {1} + 0.0625 {{{{{\\sigma_{2}}\\otimes {\\sigma_{2}}}\\otimes {\\sigma_{3}}}\\otimes {\\sigma_{3}}}\\otimes {1}}\\otimes {1} + 0.0625 {{{{{\\sigma_{2}}\\otimes {\\sigma_{2}}}\\otimes {\\sigma_{3}}}\\otimes {\\sigma_{3}}}\\otimes {\\sigma_{3}}}\\otimes {\\sigma_{3}} + 0.0625 {{{{{\\sigma_{3}}\\otimes {1}}\\otimes {1}}\\otimes {\\sigma_{1}}}\\otimes {\\sigma_{1}}}\\otimes {\\sigma_{3}} + 0.0625 {{{{{\\sigma_{3}}\\otimes {1}}\\otimes {1}}\\otimes {\\sigma_{2}}}\\otimes {\\sigma_{2}}}\\otimes {\\sigma_{3}} + 0.0625 {{{{{\\sigma_{3}}\\otimes {1}}\\otimes {1}}\\otimes {\\sigma_{3}}}\\otimes {\\sigma_{1}}}\\otimes {\\sigma_{1}} + 0.0625 {{{{{\\sigma_{3}}\\otimes {1}}\\otimes {1}}\\otimes {\\sigma_{3}}}\\otimes {\\sigma_{2}}}\\otimes {\\sigma_{2}} + 0.0625 {{{{{\\sigma_{3}}\\otimes {1}}\\otimes {\\sigma_{1}}}\\otimes {\\sigma_{1}}}\\otimes {1}}\\otimes {\\sigma_{3}} + 0.0625 {{{{{\\sigma_{3}}\\otimes {1}}\\otimes {\\sigma_{1}}}\\otimes {\\sigma_{1}}}\\otimes {\\sigma_{3}}}\\otimes {1} + 0.0625 {{{{{\\sigma_{3}}\\otimes {1}}\\otimes {\\sigma_{2}}}\\otimes {\\sigma_{2}}}\\otimes {1}}\\otimes {\\sigma_{3}} + 0.0625 {{{{{\\sigma_{3}}\\otimes {1}}\\otimes {\\sigma_{2}}}\\otimes {\\sigma_{2}}}\\otimes {\\sigma_{3}}}\\otimes {1} + 0.0625 {{{{{\\sigma_{3}}\\otimes {1}}\\otimes {\\sigma_{3}}}\\otimes {1}}\\otimes {\\sigma_{1}}}\\otimes {\\sigma_{1}} + 0.0625 {{{{{\\sigma_{3}}\\otimes {1}}\\otimes {\\sigma_{3}}}\\otimes {1}}\\otimes {\\sigma_{2}}}\\otimes {\\sigma_{2}} + 0.0625 {{{{{\\sigma_{3}}\\otimes {1}}\\otimes {\\sigma_{3}}}\\otimes {\\sigma_{1}}}\\otimes {\\sigma_{1}}}\\otimes {1} + 0.0625 {{{{{\\sigma_{3}}\\otimes {1}}\\otimes {\\sigma_{3}}}\\otimes {\\sigma_{2}}}\\otimes {\\sigma_{2}}}\\otimes {1} + 0.0625 {{{{{\\sigma_{3}}\\otimes {\\sigma_{1}}}\\otimes {\\sigma_{1}}}\\otimes {1}}\\otimes {1}}\\otimes {\\sigma_{3}} + 0.0625 {{{{{\\sigma_{3}}\\otimes {\\sigma_{1}}}\\otimes {\\sigma_{1}}}\\otimes {1}}\\otimes {\\sigma_{3}}}\\otimes {1} + 0.0625 {{{{{\\sigma_{3}}\\otimes {\\sigma_{1}}}\\otimes {\\sigma_{1}}}\\otimes {\\sigma_{3}}}\\otimes {1}}\\otimes {1} + 0.0625 {{{{{\\sigma_{3}}\\otimes {\\sigma_{1}}}\\otimes {\\sigma_{1}}}\\otimes {\\sigma_{3}}}\\otimes {\\sigma_{3}}}\\otimes {\\sigma_{3}} + 0.0625 {{{{{\\sigma_{3}}\\otimes {\\sigma_{2}}}\\otimes {\\sigma_{2}}}\\otimes {1}}\\otimes {1}}\\otimes {\\sigma_{3}} + 0.0625 {{{{{\\sigma_{3}}\\otimes {\\sigma_{2}}}\\otimes {\\sigma_{2}}}\\otimes {1}}\\otimes {\\sigma_{3}}}\\otimes {1} + 0.0625 {{{{{\\sigma_{3}}\\otimes {\\sigma_{2}}}\\otimes {\\sigma_{2}}}\\otimes {\\sigma_{3}}}\\otimes {1}}\\otimes {1} + 0.0625 {{{{{\\sigma_{3}}\\otimes {\\sigma_{2}}}\\otimes {\\sigma_{2}}}\\otimes {\\sigma_{3}}}\\otimes {\\sigma_{3}}}\\otimes {\\sigma_{3}} + 0.0625 {{{{{\\sigma_{3}}\\otimes {\\sigma_{3}}}\\otimes {1}}\\otimes {1}}\\otimes {\\sigma_{1}}}\\otimes {\\sigma_{1}} + 0.0625 {{{{{\\sigma_{3}}\\otimes {\\sigma_{3}}}\\otimes {1}}\\otimes {1}}\\otimes {\\sigma_{2}}}\\otimes {\\sigma_{2}} + 0.0625 {{{{{\\sigma_{3}}\\otimes {\\sigma_{3}}}\\otimes {1}}\\otimes {\\sigma_{1}}}\\otimes {\\sigma_{1}}}\\otimes {1} + 0.0625 {{{{{\\sigma_{3}}\\otimes {\\sigma_{3}}}\\otimes {1}}\\otimes {\\sigma_{2}}}\\otimes {\\sigma_{2}}}\\otimes {1} + 0.0625 {{{{{\\sigma_{3}}\\otimes {\\sigma_{3}}}\\otimes {\\sigma_{1}}}\\otimes {\\sigma_{1}}}\\otimes {1}}\\otimes {1} + 0.0625 {{{{{\\sigma_{3}}\\otimes {\\sigma_{3}}}\\otimes {\\sigma_{1}}}\\otimes {\\sigma_{1}}}\\otimes {\\sigma_{3}}}\\otimes {\\sigma_{3}} + 0.0625 {{{{{\\sigma_{3}}\\otimes {\\sigma_{3}}}\\otimes {\\sigma_{2}}}\\otimes {\\sigma_{2}}}\\otimes {1}}\\otimes {1} + 0.0625 {{{{{\\sigma_{3}}\\otimes {\\sigma_{3}}}\\otimes {\\sigma_{2}}}\\otimes {\\sigma_{2}}}\\otimes {\\sigma_{3}}}\\otimes {\\sigma_{3}} + 0.0625 {{{{{\\sigma_{3}}\\otimes {\\sigma_{3}}}\\otimes {\\sigma_{3}}}\\otimes {\\sigma_{1}}}\\otimes {\\sigma_{1}}}\\otimes {\\sigma_{3}} + 0.0625 {{{{{\\sigma_{3}}\\otimes {\\sigma_{3}}}\\otimes {\\sigma_{3}}}\\otimes {\\sigma_{2}}}\\otimes {\\sigma_{2}}}\\otimes {\\sigma_{3}} + 0.0625 {{{{{\\sigma_{3}}\\otimes {\\sigma_{3}}}\\otimes {\\sigma_{3}}}\\otimes {\\sigma_{3}}}\\otimes {\\sigma_{1}}}\\otimes {\\sigma_{1}} + 0.0625 {{{{{\\sigma_{3}}\\otimes {\\sigma_{3}}}\\otimes {\\sigma_{3}}}\\otimes {\\sigma_{3}}}\\otimes {\\sigma_{2}}}\\otimes {\\sigma_{2}}$"
      ],
      "text/plain": [
       "0.0625*1x1x1x1xsigma1xsigma1 + 0.0625*1x1x1x1xsigma2xsigma2 + 0.0625*1x1x1xsigma1xsigma1x1 + 0.0625*1x1x1xsigma2xsigma2x1 + 0.0625*1x1xsigma1xsigma1x1x1 + 0.0625*1x1xsigma1xsigma1xsigma3xsigma3 + 0.0625*1x1xsigma2xsigma2x1x1 + 0.0625*1x1xsigma2xsigma2xsigma3xsigma3 + 0.0625*1x1xsigma3xsigma1xsigma1xsigma3 + 0.0625*1x1xsigma3xsigma2xsigma2xsigma3 + 0.0625*1x1xsigma3xsigma3xsigma1xsigma1 + 0.0625*1x1xsigma3xsigma3xsigma2xsigma2 + 0.0625*1xsigma1xsigma1x1x1x1 + 0.0625*1xsigma1xsigma1x1xsigma3xsigma3 + 0.0625*1xsigma1xsigma1xsigma3x1xsigma3 + 0.0625*1xsigma1xsigma1xsigma3xsigma3x1 + 0.0625*1xsigma2xsigma2x1x1x1 + 0.0625*1xsigma2xsigma2x1xsigma3xsigma3 + 0.0625*1xsigma2xsigma2xsigma3x1xsigma3 + 0.0625*1xsigma2xsigma2xsigma3xsigma3x1 + 0.0625*1xsigma3x1xsigma1xsigma1xsigma3 + 0.0625*1xsigma3x1xsigma2xsigma2xsigma3 + 0.0625*1xsigma3x1xsigma3xsigma1xsigma1 + 0.0625*1xsigma3x1xsigma3xsigma2xsigma2 + 0.0625*1xsigma3xsigma1xsigma1x1xsigma3 + 0.0625*1xsigma3xsigma1xsigma1xsigma3x1 + 0.0625*1xsigma3xsigma2xsigma2x1xsigma3 + 0.0625*1xsigma3xsigma2xsigma2xsigma3x1 + 0.0625*1xsigma3xsigma3x1xsigma1xsigma1 + 0.0625*1xsigma3xsigma3x1xsigma2xsigma2 + 0.0625*1xsigma3xsigma3xsigma1xsigma1x1 + 0.0625*1xsigma3xsigma3xsigma2xsigma2x1 + 0.0625*sigma1xsigma1x1x1x1x1 + 0.0625*sigma1xsigma1x1x1xsigma3xsigma3 + 0.0625*sigma1xsigma1x1xsigma3x1xsigma3 + 0.0625*sigma1xsigma1x1xsigma3xsigma3x1 + 0.0625*sigma1xsigma1xsigma3x1x1xsigma3 + 0.0625*sigma1xsigma1xsigma3x1xsigma3x1 + 0.0625*sigma1xsigma1xsigma3xsigma3x1x1 + 0.0625*sigma1xsigma1xsigma3xsigma3xsigma3xsigma3 + 0.0625*sigma2xsigma2x1x1x1x1 + 0.0625*sigma2xsigma2x1x1xsigma3xsigma3 + 0.0625*sigma2xsigma2x1xsigma3x1xsigma3 + 0.0625*sigma2xsigma2x1xsigma3xsigma3x1 + 0.0625*sigma2xsigma2xsigma3x1x1xsigma3 + 0.0625*sigma2xsigma2xsigma3x1xsigma3x1 + 0.0625*sigma2xsigma2xsigma3xsigma3x1x1 + 0.0625*sigma2xsigma2xsigma3xsigma3xsigma3xsigma3 + 0.0625*sigma3x1x1xsigma1xsigma1xsigma3 + 0.0625*sigma3x1x1xsigma2xsigma2xsigma3 + 0.0625*sigma3x1x1xsigma3xsigma1xsigma1 + 0.0625*sigma3x1x1xsigma3xsigma2xsigma2 + 0.0625*sigma3x1xsigma1xsigma1x1xsigma3 + 0.0625*sigma3x1xsigma1xsigma1xsigma3x1 + 0.0625*sigma3x1xsigma2xsigma2x1xsigma3 + 0.0625*sigma3x1xsigma2xsigma2xsigma3x1 + 0.0625*sigma3x1xsigma3x1xsigma1xsigma1 + 0.0625*sigma3x1xsigma3x1xsigma2xsigma2 + 0.0625*sigma3x1xsigma3xsigma1xsigma1x1 + 0.0625*sigma3x1xsigma3xsigma2xsigma2x1 + 0.0625*sigma3xsigma1xsigma1x1x1xsigma3 + 0.0625*sigma3xsigma1xsigma1x1xsigma3x1 + 0.0625*sigma3xsigma1xsigma1xsigma3x1x1 + 0.0625*sigma3xsigma1xsigma1xsigma3xsigma3xsigma3 + 0.0625*sigma3xsigma2xsigma2x1x1xsigma3 + 0.0625*sigma3xsigma2xsigma2x1xsigma3x1 + 0.0625*sigma3xsigma2xsigma2xsigma3x1x1 + 0.0625*sigma3xsigma2xsigma2xsigma3xsigma3xsigma3 + 0.0625*sigma3xsigma3x1x1xsigma1xsigma1 + 0.0625*sigma3xsigma3x1x1xsigma2xsigma2 + 0.0625*sigma3xsigma3x1xsigma1xsigma1x1 + 0.0625*sigma3xsigma3x1xsigma2xsigma2x1 + 0.0625*sigma3xsigma3xsigma1xsigma1x1x1 + 0.0625*sigma3xsigma3xsigma1xsigma1xsigma3xsigma3 + 0.0625*sigma3xsigma3xsigma2xsigma2x1x1 + 0.0625*sigma3xsigma3xsigma2xsigma2xsigma3xsigma3 + 0.0625*sigma3xsigma3xsigma3xsigma1xsigma1xsigma3 + 0.0625*sigma3xsigma3xsigma3xsigma2xsigma2xsigma3 + 0.0625*sigma3xsigma3xsigma3xsigma3xsigma1xsigma1 + 0.0625*sigma3xsigma3xsigma3xsigma3xsigma2xsigma2"
      ]
     },
     "metadata": {},
     "output_type": "display_data"
    },
    {
     "name": "stdout",
     "output_type": "stream",
     "text": [
      "#sqg, #cnots= (0, 480)\n"
     ]
    }
   ],
   "source": [
    "for n in [2,3,4,5,6]:\n",
    "    print(\"----------------------\")\n",
    "    print(\"\")\n",
    "    T=np.zeros((n,n))\n",
    "    str_lst=[]\n",
    "#     T[0,1]=1\n",
    "#     T[1,0]=1\n",
    "    for i in range(n-1):\n",
    "        T[i,i+1]=1\n",
    "        T[i+1,i]=1\n",
    "    for i in range(n):\n",
    "        str_tmp=''\n",
    "        for j in range(n):\n",
    "            if i==j:\n",
    "                str_tmp+=\"1\"\n",
    "            else:\n",
    "                str_tmp+=\"0\"\n",
    "        str_lst.append(str_tmp)\n",
    "    display(T,str_lst)\n",
    "\n",
    "    print_info2(str_lst,T)"
   ]
  },
  {
   "cell_type": "code",
   "execution_count": null,
   "id": "01034f0f",
   "metadata": {},
   "outputs": [],
   "source": []
  },
  {
   "cell_type": "code",
   "execution_count": null,
   "id": "5ce61d88",
   "metadata": {},
   "outputs": [],
   "source": []
  },
  {
   "cell_type": "code",
   "execution_count": null,
   "id": "47f3af4d",
   "metadata": {},
   "outputs": [],
   "source": []
  },
  {
   "cell_type": "code",
   "execution_count": 28,
   "id": "1af0d20b",
   "metadata": {},
   "outputs": [
    {
     "data": {
      "text/plain": [
       "array([[0., 1.],\n",
       "       [1., 0.]])"
      ]
     },
     "metadata": {},
     "output_type": "display_data"
    },
    {
     "name": "stdout",
     "output_type": "stream",
     "text": [
      "Hamming distance= (2, 0.2)\n"
     ]
    },
    {
     "data": {
      "text/plain": [
       "'H='"
      ]
     },
     "metadata": {},
     "output_type": "display_data"
    },
    {
     "data": {
      "text/latex": [
       "$\\displaystyle 0.25 {{\\sigma_{1}}\\otimes {\\sigma_{1}}}\\otimes {1} + 0.25 {{\\sigma_{1}}\\otimes {\\sigma_{1}}}\\otimes {\\sigma_{3}} + 0.25 {{\\sigma_{2}}\\otimes {\\sigma_{2}}}\\otimes {1} + 0.25 {{\\sigma_{2}}\\otimes {\\sigma_{2}}}\\otimes {\\sigma_{3}}$"
      ],
      "text/plain": [
       "0.25*sigma1xsigma1x1 + 0.25*sigma1xsigma1xsigma3 + 0.25*sigma2xsigma2x1 + 0.25*sigma2xsigma2xsigma3"
      ]
     },
     "metadata": {},
     "output_type": "display_data"
    },
    {
     "name": "stdout",
     "output_type": "stream",
     "text": [
      "#sqg, #cnots= (0, 12)\n"
     ]
    },
    {
     "data": {
      "text/plain": [
       "'H+H_neg='"
      ]
     },
     "metadata": {},
     "output_type": "display_data"
    },
    {
     "data": {
      "text/latex": [
       "$\\displaystyle 0.5 {{\\sigma_{1}}\\otimes {\\sigma_{1}}}\\otimes {1} + 0.5 {{\\sigma_{2}}\\otimes {\\sigma_{2}}}\\otimes {1}$"
      ],
      "text/plain": [
       "0.5*sigma1xsigma1x1 + 0.5*sigma2xsigma2x1"
      ]
     },
     "metadata": {},
     "output_type": "display_data"
    },
    {
     "name": "stdout",
     "output_type": "stream",
     "text": [
      "#sqg, #cnots= (0, 4)\n"
     ]
    },
    {
     "data": {
      "text/plain": [
       "'H+H_minus='"
      ]
     },
     "metadata": {},
     "output_type": "display_data"
    },
    {
     "data": {
      "text/latex": [
       "$\\displaystyle 0.5 {{\\sigma_{1}}\\otimes {\\sigma_{1}}}\\otimes {1} + 0.5 {{\\sigma_{2}}\\otimes {\\sigma_{2}}}\\otimes {1}$"
      ],
      "text/plain": [
       "0.5*sigma1xsigma1x1 + 0.5*sigma2xsigma2x1"
      ]
     },
     "metadata": {},
     "output_type": "display_data"
    },
    {
     "name": "stdout",
     "output_type": "stream",
     "text": [
      "#sqg, #cnots= (0, 4)\n",
      "g(x)= 2*x0*x1 - x0 - x1 + 3*x2 + 1\n",
      "is zero for the following bitstrings:\n",
      "0 1 0\n",
      "1 0 0\n"
     ]
    }
   ],
   "source": [
    "T=np.ones((2,2))-np.identity(2)\n",
    "# T[2,0]=0\n",
    "# T[0,2]=0\n",
    "display(T)\n",
    "\n",
    "print_info(['100','010'],T)"
   ]
  },
  {
   "cell_type": "code",
   "execution_count": 29,
   "id": "fb2e2286",
   "metadata": {},
   "outputs": [
    {
     "data": {
      "text/plain": [
       "array([[0., 1.],\n",
       "       [1., 0.]])"
      ]
     },
     "metadata": {},
     "output_type": "display_data"
    },
    {
     "name": "stdout",
     "output_type": "stream",
     "text": [
      "Hamming distance= (2, 0.2)\n"
     ]
    },
    {
     "data": {
      "text/plain": [
       "'H='"
      ]
     },
     "metadata": {},
     "output_type": "display_data"
    },
    {
     "data": {
      "text/latex": [
       "$\\displaystyle 0.25 {{\\sigma_{1}}\\otimes {\\sigma_{1}}}\\otimes {\\sigma_{1}} + 0.25 {{\\sigma_{1}}\\otimes {\\sigma_{2}}}\\otimes {\\sigma_{2}} + 0.25 {{\\sigma_{2}}\\otimes {\\sigma_{1}}}\\otimes {\\sigma_{2}} - 0.25 {{\\sigma_{2}}\\otimes {\\sigma_{2}}}\\otimes {\\sigma_{1}}$"
      ],
      "text/plain": [
       "0.25*sigma1xsigma1xsigma1 + 0.25*sigma1xsigma2xsigma2 + 0.25*sigma2xsigma1xsigma2 - 0.25*sigma2xsigma2xsigma1"
      ]
     },
     "metadata": {},
     "output_type": "display_data"
    },
    {
     "name": "stdout",
     "output_type": "stream",
     "text": [
      "#sqg, #cnots= (0, 16)\n",
      "overlap with bitwise negated stringlist = ['001', '110']\n",
      "minus = []\n",
      "g(x)= -2*x0*x1 + 2*x0*x2 + 2*x1*x2 - 2*x2 + 2\n",
      "is zero for the following bitstrings:\n",
      "0 0 1\n",
      "1 1 0\n"
     ]
    }
   ],
   "source": [
    "T=np.ones((2,2))-np.identity(2)\n",
    "display(T)\n",
    "print_info(['001','110'],T)"
   ]
  },
  {
   "cell_type": "code",
   "execution_count": 30,
   "id": "8e374302",
   "metadata": {},
   "outputs": [
    {
     "data": {
      "text/plain": [
       "array([[0., 1., 0.],\n",
       "       [1., 0., 1.],\n",
       "       [0., 1., 0.]])"
      ]
     },
     "metadata": {},
     "output_type": "display_data"
    },
    {
     "name": "stdout",
     "output_type": "stream",
     "text": [
      "Hamming distance= (6, 4.2)\n"
     ]
    },
    {
     "data": {
      "text/plain": [
       "'H='"
      ]
     },
     "metadata": {},
     "output_type": "display_data"
    },
    {
     "data": {
      "text/latex": [
       "$\\displaystyle 0.25 \\cdot {{1}\\otimes {\\sigma_{1}}}\\otimes {\\sigma_{1}} + 0.25 \\cdot {{1}\\otimes {\\sigma_{2}}}\\otimes {\\sigma_{2}} + 0.25 {{\\sigma_{1}}\\otimes {1}}\\otimes {1} - 0.25 {{\\sigma_{1}}\\otimes {1}}\\otimes {\\sigma_{3}} + 0.25 {{\\sigma_{1}}\\otimes {\\sigma_{3}}}\\otimes {1} - 0.25 {{\\sigma_{1}}\\otimes {\\sigma_{3}}}\\otimes {\\sigma_{3}} - 0.25 {{\\sigma_{3}}\\otimes {\\sigma_{1}}}\\otimes {\\sigma_{1}} - 0.25 {{\\sigma_{3}}\\otimes {\\sigma_{2}}}\\otimes {\\sigma_{2}}$"
      ],
      "text/plain": [
       "0.25*1xsigma1xsigma1 + 0.25*1xsigma2xsigma2 + 0.25*sigma1x1x1 - 0.25*sigma1x1xsigma3 + 0.25*sigma1xsigma3x1 - 0.25*sigma1xsigma3xsigma3 - 0.25*sigma3xsigma1xsigma1 - 0.25*sigma3xsigma2xsigma2"
      ]
     },
     "metadata": {},
     "output_type": "display_data"
    },
    {
     "name": "stdout",
     "output_type": "stream",
     "text": [
      "#sqg, #cnots= (1, 20)\n",
      "overlap with bitwise negated stringlist = ['001', '110']\n",
      "minus = ['010']\n",
      "g(x)= 2*x0*x1*x2 - 4*x0*x1 + 2*x0*x2 - 2*x0 + 2*x1*x2 + 2*x1 - 4*x2 + 4\n",
      "is zero for the following bitstrings:\n",
      "0 0 1\n",
      "1 0 1\n",
      "1 1 0\n"
     ]
    }
   ],
   "source": [
    "T=np.ones((3,3))-np.identity(3)\n",
    "T[2,0]=0\n",
    "T[0,2]=0\n",
    "display(T)\n",
    "\n",
    "print_info(['001','101','110'],T)"
   ]
  },
  {
   "cell_type": "code",
   "execution_count": 31,
   "id": "85eb5d26",
   "metadata": {},
   "outputs": [
    {
     "data": {
      "text/plain": [
       "array([[0., 1., 0.],\n",
       "       [1., 0., 1.],\n",
       "       [0., 1., 0.]])"
      ]
     },
     "metadata": {},
     "output_type": "display_data"
    },
    {
     "name": "stdout",
     "output_type": "stream",
     "text": [
      "Hamming distance= (6, 4.2)\n"
     ]
    },
    {
     "data": {
      "text/plain": [
       "'H='"
      ]
     },
     "metadata": {},
     "output_type": "display_data"
    },
    {
     "data": {
      "text/latex": [
       "$\\displaystyle 0.25 \\cdot {{1}\\otimes {\\sigma_{1}}}\\otimes {1} - 0.25 \\cdot {{1}\\otimes {\\sigma_{1}}}\\otimes {\\sigma_{3}} + 0.25 {{\\sigma_{1}}\\otimes {\\sigma_{1}}}\\otimes {1} - 0.25 {{\\sigma_{1}}\\otimes {\\sigma_{1}}}\\otimes {\\sigma_{3}} - 0.25 {{\\sigma_{2}}\\otimes {\\sigma_{2}}}\\otimes {1} + 0.25 {{\\sigma_{2}}\\otimes {\\sigma_{2}}}\\otimes {\\sigma_{3}} - 0.25 {{\\sigma_{3}}\\otimes {\\sigma_{1}}}\\otimes {1} + 0.25 {{\\sigma_{3}}\\otimes {\\sigma_{1}}}\\otimes {\\sigma_{3}}$"
      ],
      "text/plain": [
       "0.25*1xsigma1x1 - 0.25*1xsigma1xsigma3 + 0.25*sigma1xsigma1x1 - 0.25*sigma1xsigma1xsigma3 - 0.25*sigma2xsigma2x1 + 0.25*sigma2xsigma2xsigma3 - 0.25*sigma3xsigma1x1 + 0.25*sigma3xsigma1xsigma3"
      ]
     },
     "metadata": {},
     "output_type": "display_data"
    },
    {
     "name": "stdout",
     "output_type": "stream",
     "text": [
      "#sqg, #cnots= (1, 20)\n"
     ]
    },
    {
     "data": {
      "text/plain": [
       "'H+H_neg='"
      ]
     },
     "metadata": {},
     "output_type": "display_data"
    },
    {
     "data": {
      "text/latex": [
       "$\\displaystyle 0.5 \\cdot {{1}\\otimes {\\sigma_{1}}}\\otimes {1} + 0.5 {{\\sigma_{1}}\\otimes {\\sigma_{1}}}\\otimes {1} - 0.5 {{\\sigma_{2}}\\otimes {\\sigma_{2}}}\\otimes {1} + 0.5 {{\\sigma_{3}}\\otimes {\\sigma_{1}}}\\otimes {\\sigma_{3}}$"
      ],
      "text/plain": [
       "0.5*1xsigma1x1 + 0.5*sigma1xsigma1x1 - 0.5*sigma2xsigma2x1 + 0.5*sigma3xsigma1xsigma3"
      ]
     },
     "metadata": {},
     "output_type": "display_data"
    },
    {
     "name": "stdout",
     "output_type": "stream",
     "text": [
      "#sqg, #cnots= (1, 8)\n"
     ]
    },
    {
     "data": {
      "text/plain": [
       "'H+H_minus='"
      ]
     },
     "metadata": {},
     "output_type": "display_data"
    },
    {
     "data": {
      "text/latex": [
       "$\\displaystyle 0.5 \\cdot {{1}\\otimes {\\sigma_{1}}}\\otimes {1} + 0.5 {{\\sigma_{1}}\\otimes {\\sigma_{1}}}\\otimes {1} - 0.5 {{\\sigma_{2}}\\otimes {\\sigma_{2}}}\\otimes {1} + 0.5 {{\\sigma_{3}}\\otimes {\\sigma_{1}}}\\otimes {\\sigma_{3}}$"
      ],
      "text/plain": [
       "0.5*1xsigma1x1 + 0.5*sigma1xsigma1x1 - 0.5*sigma2xsigma2x1 + 0.5*sigma3xsigma1xsigma3"
      ]
     },
     "metadata": {},
     "output_type": "display_data"
    },
    {
     "name": "stdout",
     "output_type": "stream",
     "text": [
      "#sqg, #cnots= (1, 8)\n",
      "g(x)= 2*x0*x1*x2 - 4*x0*x1 + 2*x0*x2 - 2*x0 - 4*x1*x2 + 6*x1 - 6*x2 + 6\n",
      "is zero for the following bitstrings:\n",
      "0 0 1\n",
      "1 0 1\n",
      "1 1 1\n"
     ]
    }
   ],
   "source": [
    "T=np.ones((3,3))-np.identity(3)\n",
    "T[2,0]=0\n",
    "T[0,2]=0\n",
    "display(T)\n",
    "\n",
    "print_info(['001','111','101'],T)"
   ]
  },
  {
   "cell_type": "code",
   "execution_count": 32,
   "id": "41b21ee2",
   "metadata": {},
   "outputs": [
    {
     "data": {
      "text/plain": [
       "array([[0., 1.],\n",
       "       [1., 0.]])"
      ]
     },
     "metadata": {},
     "output_type": "display_data"
    },
    {
     "name": "stdout",
     "output_type": "stream",
     "text": [
      "Hamming distance= (2, 0.2)\n"
     ]
    },
    {
     "data": {
      "text/plain": [
       "'H='"
      ]
     },
     "metadata": {},
     "output_type": "display_data"
    },
    {
     "data": {
      "text/latex": [
       "$\\displaystyle 0.25 {{\\sigma_{1}}\\otimes {\\sigma_{1}}}\\otimes {\\sigma_{1}} - 0.25 {{\\sigma_{1}}\\otimes {\\sigma_{2}}}\\otimes {\\sigma_{2}} - 0.25 {{\\sigma_{2}}\\otimes {\\sigma_{1}}}\\otimes {\\sigma_{2}} - 0.25 {{\\sigma_{2}}\\otimes {\\sigma_{2}}}\\otimes {\\sigma_{1}}$"
      ],
      "text/plain": [
       "0.25*sigma1xsigma1xsigma1 - 0.25*sigma1xsigma2xsigma2 - 0.25*sigma2xsigma1xsigma2 - 0.25*sigma2xsigma2xsigma1"
      ]
     },
     "metadata": {},
     "output_type": "display_data"
    },
    {
     "name": "stdout",
     "output_type": "stream",
     "text": [
      "#sqg, #cnots= (0, 16)\n",
      "overlap with bitwise negated stringlist = ['000', '111']\n",
      "minus = []\n",
      "g(x)= -2*x0*x1 - 2*x0*x2 + 2*x0 - 2*x1*x2 + 2*x1 + 2*x2\n",
      "is zero for the following bitstrings:\n",
      "0 0 0\n",
      "1 1 1\n"
     ]
    }
   ],
   "source": [
    "T=np.ones((2,2))-np.identity(2)\n",
    "display(T)\n",
    "\n",
    "print_info(['000','111'],T)"
   ]
  },
  {
   "cell_type": "code",
   "execution_count": 33,
   "id": "b23bb046",
   "metadata": {},
   "outputs": [
    {
     "data": {
      "text/plain": [
       "array([[0., 1., 0., 0.],\n",
       "       [1., 0., 1., 0.],\n",
       "       [0., 1., 0., 1.],\n",
       "       [0., 0., 1., 0.]])"
      ]
     },
     "metadata": {},
     "output_type": "display_data"
    },
    {
     "name": "stdout",
     "output_type": "stream",
     "text": [
      "Hamming distance= (8, 4.3999999999999995)\n"
     ]
    },
    {
     "data": {
      "text/plain": [
       "'H='"
      ]
     },
     "metadata": {},
     "output_type": "display_data"
    },
    {
     "data": {
      "text/latex": [
       "$\\displaystyle 0.25 \\cdot {{1}\\otimes {\\sigma_{1}}}\\otimes {1} + 0.25 \\cdot {{1}\\otimes {\\sigma_{1}}}\\otimes {\\sigma_{1}} - 0.25 \\cdot {{1}\\otimes {\\sigma_{1}}}\\otimes {\\sigma_{3}} + 0.25 \\cdot {{1}\\otimes {\\sigma_{2}}}\\otimes {\\sigma_{2}} + 0.25 {{\\sigma_{1}}\\otimes {\\sigma_{1}}}\\otimes {1} + 0.25 {{\\sigma_{1}}\\otimes {\\sigma_{1}}}\\otimes {\\sigma_{3}} + 0.25 {{\\sigma_{2}}\\otimes {\\sigma_{2}}}\\otimes {1} + 0.25 {{\\sigma_{2}}\\otimes {\\sigma_{2}}}\\otimes {\\sigma_{3}} + 0.25 {{\\sigma_{3}}\\otimes {\\sigma_{1}}}\\otimes {1} + 0.25 {{\\sigma_{3}}\\otimes {\\sigma_{1}}}\\otimes {\\sigma_{1}} - 0.25 {{\\sigma_{3}}\\otimes {\\sigma_{1}}}\\otimes {\\sigma_{3}} + 0.25 {{\\sigma_{3}}\\otimes {\\sigma_{2}}}\\otimes {\\sigma_{2}}$"
      ],
      "text/plain": [
       "0.25*1xsigma1x1 + 0.25*1xsigma1xsigma1 - 0.25*1xsigma1xsigma3 + 0.25*1xsigma2xsigma2 + 0.25*sigma1xsigma1x1 + 0.25*sigma1xsigma1xsigma3 + 0.25*sigma2xsigma2x1 + 0.25*sigma2xsigma2xsigma3 + 0.25*sigma3xsigma1x1 + 0.25*sigma3xsigma1xsigma1 - 0.25*sigma3xsigma1xsigma3 + 0.25*sigma3xsigma2xsigma2"
      ]
     },
     "metadata": {},
     "output_type": "display_data"
    },
    {
     "name": "stdout",
     "output_type": "stream",
     "text": [
      "#sqg, #cnots= (1, 32)\n",
      "overlap with bitwise negated stringlist = ['100', '011']\n"
     ]
    },
    {
     "data": {
      "text/plain": [
       "'H+H_minus='"
      ]
     },
     "metadata": {},
     "output_type": "display_data"
    },
    {
     "data": {
      "text/latex": [
       "$\\displaystyle 0.25 \\cdot {{1}\\otimes {\\sigma_{1}}}\\otimes {1} + 0.5 \\cdot {{1}\\otimes {\\sigma_{1}}}\\otimes {\\sigma_{1}} - 0.25 \\cdot {{1}\\otimes {\\sigma_{1}}}\\otimes {\\sigma_{3}} + 0.5 \\cdot {{1}\\otimes {\\sigma_{2}}}\\otimes {\\sigma_{2}} + 0.25 {{\\sigma_{1}}\\otimes {\\sigma_{1}}}\\otimes {1} + 0.25 {{\\sigma_{1}}\\otimes {\\sigma_{1}}}\\otimes {\\sigma_{3}} + 0.25 {{\\sigma_{2}}\\otimes {\\sigma_{2}}}\\otimes {1} + 0.25 {{\\sigma_{2}}\\otimes {\\sigma_{2}}}\\otimes {\\sigma_{3}} + 0.25 {{\\sigma_{3}}\\otimes {\\sigma_{1}}}\\otimes {1} - 0.25 {{\\sigma_{3}}\\otimes {\\sigma_{1}}}\\otimes {\\sigma_{3}}$"
      ],
      "text/plain": [
       "0.25*1xsigma1x1 + 0.5*1xsigma1xsigma1 - 0.25*1xsigma1xsigma3 + 0.5*1xsigma2xsigma2 + 0.25*sigma1xsigma1x1 + 0.25*sigma1xsigma1xsigma3 + 0.25*sigma2xsigma2x1 + 0.25*sigma2xsigma2xsigma3 + 0.25*sigma3xsigma1x1 - 0.25*sigma3xsigma1xsigma3"
      ]
     },
     "metadata": {},
     "output_type": "display_data"
    },
    {
     "name": "stdout",
     "output_type": "stream",
     "text": [
      "#sqg, #cnots= (1, 24)\n",
      "g(x)= -6*x0*x1*x2 + 8*x0*x1 + 8*x0*x2 - 2*x0 + 2*x1*x2 - 2*x1 - 2*x2 + 2\n",
      "is zero for the following bitstrings:\n",
      "0 0 1\n",
      "0 1 0\n",
      "0 1 1\n",
      "1 0 0\n"
     ]
    }
   ],
   "source": [
    "n=2\n",
    "T=np.zeros((2**n,2**n))\n",
    "for i in range(2**n-1):\n",
    "    T[i,i+1]=1\n",
    "    T[i+1,i]=1\n",
    "display(T)\n",
    "\n",
    "print_info(['100','010','001','011'],T)"
   ]
  },
  {
   "cell_type": "code",
   "execution_count": null,
   "id": "a9f121e3",
   "metadata": {},
   "outputs": [],
   "source": []
  },
  {
   "cell_type": "code",
   "execution_count": null,
   "id": "33ec1d15",
   "metadata": {},
   "outputs": [],
   "source": []
  }
 ],
 "metadata": {
  "kernelspec": {
   "display_name": "Python 3",
   "language": "python",
   "name": "python3"
  },
  "language_info": {
   "codemirror_mode": {
    "name": "ipython",
    "version": 3
   },
   "file_extension": ".py",
   "mimetype": "text/x-python",
   "name": "python",
   "nbconvert_exporter": "python",
   "pygments_lexer": "ipython3",
   "version": "3.9.5"
  }
 },
 "nbformat": 4,
 "nbformat_minor": 5
}
