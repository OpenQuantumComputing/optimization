{
 "cells": [
  {
   "cell_type": "markdown",
   "id": "5f44689e",
   "metadata": {},
   "source": [
    "$$\\newcommand{\\ket}[1]{\\left|{#1}\\right\\rangle}$$\n",
    "$$\\newcommand{\\bra}[1]{\\left\\langle{#1}\\right|}$$\n",
    "# Implementation of QAOA"
   ]
  },
  {
   "cell_type": "code",
   "execution_count": 1,
   "id": "5e5c4393",
   "metadata": {},
   "outputs": [],
   "source": [
    "from openquantumcomputing.QAOABase import QAOABase\n",
    "from openquantumcomputing.utilities import *\n",
    "from openquantumcomputing.mixer_utilities import *\n",
    "from qiskit.visualization import plot_histogram\n",
    "from sympy import symbols, expand\n",
    "from matplotlib import pyplot as plt\n",
    "import networkx as nx"
   ]
  },
  {
   "cell_type": "code",
   "execution_count": 2,
   "id": "c9995084",
   "metadata": {},
   "outputs": [],
   "source": [
    "def reverse_keys(hist):\n",
    "    hist2 = {}\n",
    "    for key in hist.keys():\n",
    "        hist2[key[::-1]] = hist[key]\n",
    "    return hist2"
   ]
  },
  {
   "cell_type": "code",
   "execution_count": 3,
   "id": "e150b696",
   "metadata": {},
   "outputs": [],
   "source": [
    "qasmSim = Aer.get_backend(\"qasm_simulator\") "
   ]
  },
  {
   "cell_type": "markdown",
   "id": "a75ca413",
   "metadata": {},
   "source": [
    "$$ H_{cost} = \\begin{bmatrix} \n",
    "5 & 0 & 0 & 0\\\\\n",
    "0 & -1 & 0 & 0\\\\\n",
    "0 & 0 & -2 & 0\\\\\n",
    "0 & 0 & 0 & 5\\\\\n",
    "\\end{bmatrix} $$"
   ]
  },
  {
   "cell_type": "code",
   "execution_count": 4,
   "id": "f5cc955a",
   "metadata": {
    "run_control": {
     "marked": false
    }
   },
   "outputs": [
    {
     "name": "stdout",
     "output_type": "stream",
     "text": [
      "dim= 2.0\n"
     ]
    },
    {
     "data": {
      "text/plain": [
       "' + 1.75*II + -0.25*IZ + 0.25*ZI + 3.25*ZZ'"
      ]
     },
     "metadata": {},
     "output_type": "display_data"
    }
   ],
   "source": [
    "H_cost = np.diag([5, -1, -2, 5])\n",
    "display(decompose(H_cost))"
   ]
  },
  {
   "cell_type": "markdown",
   "id": "a02dc3ec",
   "metadata": {},
   "source": [
    "$$ \\exp \\left(-i\\gamma \\left(\\frac{7}{3}I\\otimes I - \\frac{1}{4}I\\otimes Z + \\frac{1}{4}Z\\otimes I + \\frac{13}{4}Z\\otimes Z \\right)\\right) $$"
   ]
  },
  {
   "cell_type": "markdown",
   "id": "eb0d1faa",
   "metadata": {},
   "source": [
    "## Example 1: $H_{mixer} = X\\otimes I + I \\otimes X$\n",
    "\n",
    "**initial state** = $\\ket{00} + \\ket{01} + \\ket{10} + \\ket{11}$"
   ]
  },
  {
   "cell_type": "code",
   "execution_count": 5,
   "id": "a9c67b4f",
   "metadata": {
    "run_control": {
     "marked": false
    }
   },
   "outputs": [],
   "source": [
    "class QAOA1(QAOABase):\n",
    "    def cost(self, string, params):\n",
    "        C = 5\n",
    "        if string == \"01\":\n",
    "            C = -1\n",
    "        elif string == \"10\":\n",
    "            C = -2\n",
    "        return C\n",
    "\n",
    "    def createCircuit(self, angles, depth, params={}):\n",
    "        q = QuantumRegister(2)\n",
    "        c = ClassicalRegister(2)\n",
    "        circ = QuantumCircuit(q, c)\n",
    "\n",
    "        # initial state\n",
    "        circ.h(q)\n",
    "        \n",
    "        for d in range(depth):\n",
    "            gamma = angles[2 * d]\n",
    "            beta = angles[2 * d + 1]\n",
    "\n",
    "            # cost hamiltonian\n",
    "            circ.rz(-2.*gamma*(1./4.), q[0])\n",
    "            circ.rz(2.*gamma*(1./4.), q[1])\n",
    "            circ.rzz(-2.*gamma*(13./4.), q[0], q[1])\n",
    "   \n",
    "            # mixer hamiltonian\n",
    "            circ.rx(-2.*beta, q)\n",
    "\n",
    "        circ.measure(q, c)\n",
    "        return circ"
   ]
  },
  {
   "cell_type": "code",
   "execution_count": 6,
   "id": "3cdcd3cc",
   "metadata": {},
   "outputs": [
    {
     "data": {
      "text/html": [
       "<pre style=\"word-wrap: normal;white-space: pre;background: #fff0;line-height: 1.1;font-family: &quot;Courier New&quot;,Courier,monospace\">      ┌───┐┌──────────┐           ┌────────┐┌─┐   \n",
       "q0_0: ┤ H ├┤ Rz(-0.5) ├─■─────────┤ Rx(-2) ├┤M├───\n",
       "      ├───┤├─────────┬┘ │ZZ(-6.5) ├────────┤└╥┘┌─┐\n",
       "q0_1: ┤ H ├┤ Rz(0.5) ├──■─────────┤ Rx(-2) ├─╫─┤M├\n",
       "      └───┘└─────────┘            └────────┘ ║ └╥┘\n",
       "c0: 2/═══════════════════════════════════════╩══╩═\n",
       "                                             0  1 </pre>"
      ],
      "text/plain": [
       "      ┌───┐┌──────────┐           ┌────────┐┌─┐   \n",
       "q0_0: ┤ H ├┤ Rz(-0.5) ├─■─────────┤ Rx(-2) ├┤M├───\n",
       "      ├───┤├─────────┬┘ │ZZ(-6.5) ├────────┤└╥┘┌─┐\n",
       "q0_1: ┤ H ├┤ Rz(0.5) ├──■─────────┤ Rx(-2) ├─╫─┤M├\n",
       "      └───┘└─────────┘            └────────┘ ║ └╥┘\n",
       "c0: 2/═══════════════════════════════════════╩══╩═\n",
       "                                             0  1 "
      ]
     },
     "metadata": {},
     "output_type": "display_data"
    }
   ],
   "source": [
    "display(QAOA1().createCircuit([1.0, 1.0], 1).draw())"
   ]
  },
  {
   "cell_type": "code",
   "execution_count": 7,
   "id": "8ea0ac03",
   "metadata": {},
   "outputs": [
    {
     "name": "stdout",
     "output_type": "stream",
     "text": [
      "Calculating Energy landscape for depth p=1...\n",
      "Calculating Energy landscape done\n",
      "cost(depth= 1 )= -4.86328125\n"
     ]
    }
   ],
   "source": [
    "qaoa1 = QAOA1()\n",
    "qaoa1.increase_depth(backend = qasmSim, precision = 0.25)"
   ]
  },
  {
   "cell_type": "code",
   "execution_count": 8,
   "id": "0cf32149",
   "metadata": {
    "run_control": {
     "marked": false
    }
   },
   "outputs": [
    {
     "data": {
      "image/png": "[encoded data removed]",
      "text/plain": [
       "<Figure size 504x360 with 1 Axes>"
      ]
     },
     "metadata": {},
     "output_type": "display_data"
    }
   ],
   "source": [
    "hist1 = qaoa1.hist(angles = qaoa1.angles_hist['d1_final'], backend = qasmSim, shots = 1024)\n",
    "display(plot_histogram(reverse_keys(hist1)))"
   ]
  },
  {
   "cell_type": "markdown",
   "id": "3ddcbed6",
   "metadata": {},
   "source": [
    "## Example 2: $H_{mixer} = \\frac{1}{2} \\left(X\\otimes X + Y \\otimes Y \\right)$\n",
    "\n",
    "**initial state** = $\\ket{01} + \\ket{10}$"
   ]
  },
  {
   "cell_type": "code",
   "execution_count": 9,
   "id": "abf761ed",
   "metadata": {},
   "outputs": [],
   "source": [
    "class QAOA2(QAOABase):\n",
    "    def cost(self, string, params):\n",
    "        C = 5\n",
    "        if string == \"01\":\n",
    "            C = -1\n",
    "        elif string == \"10\":\n",
    "            C = -2\n",
    "        return C\n",
    "\n",
    "    def createCircuit(self, angles, depth, params={}):\n",
    "        q = QuantumRegister(2)\n",
    "        c = ClassicalRegister(2)\n",
    "        circ = QuantumCircuit(q, c)\n",
    "\n",
    "        # initial state\n",
    "        Wn(circ, [0, 1])\n",
    "        \n",
    "        for d in range(depth):\n",
    "            gamma = angles[2 * d]\n",
    "            beta = angles[2 * d + 1]\n",
    "\n",
    "            # cost hamiltonian\n",
    "            circ.rz(2.*gamma*(1./4.), q[0])\n",
    "            circ.rz(-2.*gamma*(1./4.), q[1])\n",
    "            circ.rzz(2.*gamma*(13./4.), q[0], q[1])\n",
    "               \n",
    "            # mixer hamiltonian\n",
    "            circ.rxx(-beta, q[0], q[1])\n",
    "            circ.ryy(-beta, q[0], q[1])\n",
    "            \n",
    "            \n",
    "        circ.measure(q, c)\n",
    "        return circ"
   ]
  },
  {
   "cell_type": "code",
   "execution_count": 10,
   "id": "4d77d282",
   "metadata": {},
   "outputs": [
    {
     "data": {
      "text/html": [
       "<pre style=\"word-wrap: normal;white-space: pre;background: #fff0;line-height: 1.1;font-family: &quot;Courier New&quot;,Courier,monospace\">         ┌───┐┌───┐┌─────────┐           ┌──────────┐┌──────────┐┌─┐   \n",
       "q5927_0: ┤ X ├┤ X ├┤ Rz(0.5) ├──■────────┤0         ├┤0         ├┤M├───\n",
       "         ├───┤└─┬─┘├─────────┴┐ │ZZ(6.5) │  Rxx(-1) ││  Ryy(-1) │└╥┘┌─┐\n",
       "q5927_1: ┤ H ├──■──┤ Rz(-0.5) ├─■────────┤1         ├┤1         ├─╫─┤M├\n",
       "         └───┘     └──────────┘          └──────────┘└──────────┘ ║ └╥┘\n",
       " c430: 2/═════════════════════════════════════════════════════════╩══╩═\n",
       "                                                                  0  1 </pre>"
      ],
      "text/plain": [
       "         ┌───┐┌───┐┌─────────┐           ┌──────────┐┌──────────┐┌─┐   \n",
       "q5927_0: ┤ X ├┤ X ├┤ Rz(0.5) ├──■────────┤0         ├┤0         ├┤M├───\n",
       "         ├───┤└─┬─┘├─────────┴┐ │ZZ(6.5) │  Rxx(-1) ││  Ryy(-1) │└╥┘┌─┐\n",
       "q5927_1: ┤ H ├──■──┤ Rz(-0.5) ├─■────────┤1         ├┤1         ├─╫─┤M├\n",
       "         └───┘     └──────────┘          └──────────┘└──────────┘ ║ └╥┘\n",
       " c430: 2/═════════════════════════════════════════════════════════╩══╩═\n",
       "                                                                  0  1 "
      ]
     },
     "metadata": {},
     "output_type": "display_data"
    }
   ],
   "source": [
    "display(QAOA2().createCircuit([1.0, 1.0], 1).draw())"
   ]
  },
  {
   "cell_type": "code",
   "execution_count": 11,
   "id": "5e2f6067",
   "metadata": {},
   "outputs": [
    {
     "name": "stdout",
     "output_type": "stream",
     "text": [
      "Calculating Energy landscape for depth p=1...\n",
      "Calculating Energy landscape done\n",
      "cost(depth= 1 )= 1.001953125\n"
     ]
    }
   ],
   "source": [
    "qaoa2 = QAOA2()\n",
    "qaoa2.increase_depth(backend = qasmSim, precision = 0.25)"
   ]
  },
  {
   "cell_type": "code",
   "execution_count": 12,
   "id": "181b1d06",
   "metadata": {},
   "outputs": [
    {
     "data": {
      "image/png": "[encoded data removed]",
      "text/plain": [
       "<Figure size 504x360 with 1 Axes>"
      ]
     },
     "metadata": {},
     "output_type": "display_data"
    }
   ],
   "source": [
    "hist2 = qaoa2.hist(angles = qaoa2.angles_hist['d1_final'], backend = qasmSim, shots = 1024)\n",
    "display(plot_histogram(reverse_keys(hist2)))"
   ]
  },
  {
   "cell_type": "markdown",
   "id": "5cbd7735",
   "metadata": {},
   "source": [
    "## Example 3: penalty hamiltonian"
   ]
  },
  {
   "cell_type": "markdown",
   "id": "fefcb6a4",
   "metadata": {},
   "source": [
    "$$ H_{penalty} = \\begin{bmatrix} \n",
    "0 & 0 & 0 & 0\\\\\n",
    "0 & 0 & 0 & 0\\\\\n",
    "0 & 0 & 0 & 0\\\\\n",
    "0 & 0 & 0 & \\lambda\\\\\n",
    "\\end{bmatrix} $$\n",
    "\n",
    "$$ \\exp \\left(-\\gamma \\frac{\\lambda}{4}\\left(I\\otimes I - Z \\otimes I - I \\otimes Z + Z \\otimes Z \\right)\\right) $$\n",
    "\n",
    "\n",
    "**initial state**: $\\ket{00} + \\ket{01} + \\ket{10} + \\ket{11}$"
   ]
  },
  {
   "cell_type": "code",
   "execution_count": 13,
   "id": "9fb76c31",
   "metadata": {},
   "outputs": [],
   "source": [
    "class QAOA3(QAOABase):\n",
    "    def cost(self, string, params):\n",
    "        C = 5\n",
    "        if string == \"01\":\n",
    "            C = -1\n",
    "        elif string == \"10\":\n",
    "            C = -2\n",
    "        return C\n",
    "\n",
    "    def createCircuit(self, angles, depth, params={}):\n",
    "        q = QuantumRegister(2)\n",
    "        c = ClassicalRegister(2)\n",
    "        circ = QuantumCircuit(q, c)\n",
    "\n",
    "        # initial state\n",
    "        circ.h(q)\n",
    "        \n",
    "        lmbda = -10.0\n",
    "        for d in range(depth):\n",
    "            gamma = angles[2 * d]\n",
    "            beta = angles[2 * d + 1]\n",
    "\n",
    "            # cost hamiltonian\n",
    "            circ.rz(-2.*gamma*(1./4.), q[0])\n",
    "            circ.rz(2.*gamma*(1./4.), q[1])\n",
    "            circ.rzz(-2.*gamma*(13./4.), q[0], q[1])\n",
    "            \n",
    "            # penalty hamiltonian\n",
    "            circ.rz(2.*gamma*lmbda*(1./4.), q[0])\n",
    "            circ.rz(2.*gamma*lmbda*(1./4.), q[1])\n",
    "            circ.rzz(-2.*gamma*lmbda*(1./4.), q[0], q[1])\n",
    "               \n",
    "            # mixer hamiltonian\n",
    "            circ.rx(-2.*beta, q)\n",
    "\n",
    "        circ.measure(q, c)\n",
    "        return circ"
   ]
  },
  {
   "cell_type": "code",
   "execution_count": 14,
   "id": "10bb1434",
   "metadata": {},
   "outputs": [
    {
     "data": {
      "text/html": [
       "<pre style=\"word-wrap: normal;white-space: pre;background: #fff0;line-height: 1.1;font-family: &quot;Courier New&quot;,Courier,monospace\">          ┌───┐┌──────────┐           ┌────────┐        ┌────────┐┌─┐   \n",
       "q13324_0: ┤ H ├┤ Rz(-0.5) ├─■─────────┤ Rz(-5) ├─■──────┤ Rx(-2) ├┤M├───\n",
       "          ├───┤├─────────┬┘ │ZZ(-6.5) ├────────┤ │ZZ(5) ├────────┤└╥┘┌─┐\n",
       "q13324_1: ┤ H ├┤ Rz(0.5) ├──■─────────┤ Rz(-5) ├─■──────┤ Rx(-2) ├─╫─┤M├\n",
       "          └───┘└─────────┘            └────────┘        └────────┘ ║ └╥┘\n",
       "  c859: 2/═════════════════════════════════════════════════════════╩══╩═\n",
       "                                                                   0  1 </pre>"
      ],
      "text/plain": [
       "          ┌───┐┌──────────┐           ┌────────┐        ┌────────┐┌─┐   \n",
       "q13324_0: ┤ H ├┤ Rz(-0.5) ├─■─────────┤ Rz(-5) ├─■──────┤ Rx(-2) ├┤M├───\n",
       "          ├───┤├─────────┬┘ │ZZ(-6.5) ├────────┤ │ZZ(5) ├────────┤└╥┘┌─┐\n",
       "q13324_1: ┤ H ├┤ Rz(0.5) ├──■─────────┤ Rz(-5) ├─■──────┤ Rx(-2) ├─╫─┤M├\n",
       "          └───┘└─────────┘            └────────┘        └────────┘ ║ └╥┘\n",
       "  c859: 2/═════════════════════════════════════════════════════════╩══╩═\n",
       "                                                                   0  1 "
      ]
     },
     "metadata": {},
     "output_type": "display_data"
    }
   ],
   "source": [
    "display(QAOA3().createCircuit([1.0, 1.0], 1).draw())"
   ]
  },
  {
   "cell_type": "code",
   "execution_count": 15,
   "id": "c2a147e8",
   "metadata": {},
   "outputs": [
    {
     "name": "stdout",
     "output_type": "stream",
     "text": [
      "Calculating Energy landscape for depth p=1...\n",
      "Calculating Energy landscape done\n",
      "cost(depth= 1 )= -4.890625\n"
     ]
    }
   ],
   "source": [
    "qaoa3 = QAOA3()\n",
    "qaoa3.increase_depth(backend = qasmSim, precision = 0.25)"
   ]
  },
  {
   "cell_type": "code",
   "execution_count": 16,
   "id": "7bb289ff",
   "metadata": {},
   "outputs": [
    {
     "data": {
      "image/png": "[encoded data removed]",
      "text/plain": [
       "<Figure size 504x360 with 1 Axes>"
      ]
     },
     "metadata": {},
     "output_type": "display_data"
    }
   ],
   "source": [
    "hist3 = qaoa3.hist(angles = qaoa3.angles_hist['d1_final'], backend = qasmSim, shots = 1024)\n",
    "display(plot_histogram(reverse_keys(hist3)))"
   ]
  },
  {
   "cell_type": "markdown",
   "id": "3a10252f",
   "metadata": {},
   "source": [
    "## Example 4: penalty from constraint term\n",
    "\n",
    "**initial state**: $\\ket{00} + \\ket{01} + \\ket{10} + \\ket{11}$"
   ]
  },
  {
   "cell_type": "code",
   "execution_count": 17,
   "id": "5f094edb",
   "metadata": {},
   "outputs": [
    {
     "data": {
      "text/latex": [
       "$\\displaystyle 0.5 Z_{0} Z_{1} - 0.5 Z_{0} - 0.5 Z_{1} + 0.5$"
      ],
      "text/plain": [
       "0.5*Z0*Z1 - 0.5*Z0 - 0.5*Z1 + 0.5"
      ]
     },
     "metadata": {},
     "output_type": "display_data"
    }
   ],
   "source": [
    "g = get_g([\"10\", \"01\", \"00\"])\n",
    "expr = g[1]\n",
    "for i, symbol in enumerate(g[0]):\n",
    "    Z_i = symbols(f\"Z{i}\")\n",
    "    expr = expr.subs(symbol, 0.5*(1.0 - Z_i))\n",
    "display(expand(expr))"
   ]
  },
  {
   "cell_type": "code",
   "execution_count": 18,
   "id": "def7a0ab",
   "metadata": {},
   "outputs": [],
   "source": [
    "class QAOA4(QAOABase):\n",
    "    def cost(self, string, params):\n",
    "        C = 5\n",
    "        if string == \"01\":\n",
    "            C = -1\n",
    "        elif string == \"10\":\n",
    "            C = -2\n",
    "        return C\n",
    "\n",
    "    def createCircuit(self, angles, depth, params={}):\n",
    "        q = QuantumRegister(2)\n",
    "        c = ClassicalRegister(2)\n",
    "        circ = QuantumCircuit(q, c)\n",
    "\n",
    "        # initial state\n",
    "        circ.h(q)\n",
    "        \n",
    "        lmbda = -4.0\n",
    "        for d in range(depth):\n",
    "            gamma = angles[2 * d]\n",
    "            beta = angles[2 * d + 1]\n",
    "\n",
    "            # cost hamiltonian\n",
    "            circ.rz(-2.*gamma*(1./4.), q[0])\n",
    "            circ.rz(2.*gamma*(1./4.), q[1])\n",
    "            circ.rzz(-2.*gamma*(13./4.), q[0], q[1])\n",
    "            \n",
    "            # constraint hamiltonian\n",
    "            circ.rz(2.*gamma*lmbda*(1./2.), q[0])\n",
    "            circ.rz(2.*gamma*lmbda*(1./2.), q[1])\n",
    "            circ.rzz(-2.*gamma*lmbda*(1./2.), q[0], q[1])\n",
    "               \n",
    "            # mixer hamiltonian\n",
    "            circ.rx(-2.*beta, q)\n",
    "\n",
    "        circ.measure(q, c)\n",
    "        return circ"
   ]
  },
  {
   "cell_type": "code",
   "execution_count": 19,
   "id": "543190cc",
   "metadata": {},
   "outputs": [
    {
     "data": {
      "text/html": [
       "<pre style=\"word-wrap: normal;white-space: pre;background: #fff0;line-height: 1.1;font-family: &quot;Courier New&quot;,Courier,monospace\">          ┌───┐┌──────────┐           ┌────────┐        ┌────────┐┌─┐   \n",
       "q19997_0: ┤ H ├┤ Rz(-0.5) ├─■─────────┤ Rz(-4) ├─■──────┤ Rx(-2) ├┤M├───\n",
       "          ├───┤├─────────┬┘ │ZZ(-6.5) ├────────┤ │ZZ(4) ├────────┤└╥┘┌─┐\n",
       "q19997_1: ┤ H ├┤ Rz(0.5) ├──■─────────┤ Rz(-4) ├─■──────┤ Rx(-2) ├─╫─┤M├\n",
       "          └───┘└─────────┘            └────────┘        └────────┘ ║ └╥┘\n",
       " c1287: 2/═════════════════════════════════════════════════════════╩══╩═\n",
       "                                                                   0  1 </pre>"
      ],
      "text/plain": [
       "          ┌───┐┌──────────┐           ┌────────┐        ┌────────┐┌─┐   \n",
       "q19997_0: ┤ H ├┤ Rz(-0.5) ├─■─────────┤ Rz(-4) ├─■──────┤ Rx(-2) ├┤M├───\n",
       "          ├───┤├─────────┬┘ │ZZ(-6.5) ├────────┤ │ZZ(4) ├────────┤└╥┘┌─┐\n",
       "q19997_1: ┤ H ├┤ Rz(0.5) ├──■─────────┤ Rz(-4) ├─■──────┤ Rx(-2) ├─╫─┤M├\n",
       "          └───┘└─────────┘            └────────┘        └────────┘ ║ └╥┘\n",
       " c1287: 2/═════════════════════════════════════════════════════════╩══╩═\n",
       "                                                                   0  1 "
      ]
     },
     "metadata": {},
     "output_type": "display_data"
    }
   ],
   "source": [
    "display(QAOA4().createCircuit([1.0, 1.0], 1).draw())"
   ]
  },
  {
   "cell_type": "code",
   "execution_count": 20,
   "id": "67df94b6",
   "metadata": {},
   "outputs": [
    {
     "name": "stdout",
     "output_type": "stream",
     "text": [
      "Calculating Energy landscape for depth p=1...\n",
      "Calculating Energy landscape done\n",
      "cost(depth= 1 )= -4.8974609375\n"
     ]
    }
   ],
   "source": [
    "qaoa4 = QAOA4()\n",
    "qaoa4.increase_depth(backend = qasmSim, precision = 0.25)"
   ]
  },
  {
   "cell_type": "code",
   "execution_count": 21,
   "id": "cf044c06",
   "metadata": {},
   "outputs": [
    {
     "data": {
      "image/png": "[encoded data removed]",
      "text/plain": [
       "<Figure size 504x360 with 1 Axes>"
      ]
     },
     "metadata": {},
     "output_type": "display_data"
    }
   ],
   "source": [
    "hist4 = qaoa4.hist(angles = qaoa4.angles_hist['d1_final'], backend = qasmSim, shots = 1024)\n",
    "display(plot_histogram(reverse_keys(hist4)))"
   ]
  },
  {
   "cell_type": "markdown",
   "id": "73648b28",
   "metadata": {},
   "source": [
    "## Example 5: penalty in cost function\n",
    "\n",
    "$$ H_{cost} = \\begin{bmatrix} \n",
    "5 & 0 & 0 & 0\\\\\n",
    "0 & -1 & 0 & 0\\\\\n",
    "0 & 0 & -2 & 0\\\\\n",
    "0 & 0 & 0 & 5\\\\\n",
    "\\end{bmatrix} +\n",
    "\\begin{bmatrix} \n",
    "0 & 0 & 0 & 0\\\\\n",
    "0 & 0 & 0 & 0\\\\\n",
    "0 & 0 & 0 & 0\\\\\n",
    "0 & 0 & 0 & \\lambda\\\\\n",
    "\\end{bmatrix} $$\n",
    "\n",
    "**initial state**: $\\ket{00} + \\ket{01} + \\ket{10} + \\ket{11}$"
   ]
  },
  {
   "cell_type": "code",
   "execution_count": 22,
   "id": "81a2bcc8",
   "metadata": {},
   "outputs": [],
   "source": [
    "class QAOA5(QAOABase):\n",
    "    def cost(self, string, params):\n",
    "        lmbda = params.get(\"lmbda\")\n",
    "        if string == \"00\":\n",
    "            C = 5\n",
    "        elif string == \"01\":\n",
    "            C = -1\n",
    "        elif string == \"10\":\n",
    "            C = -2\n",
    "        else:\n",
    "            C = 5 + lmbda\n",
    "        return C\n",
    "\n",
    "    def createCircuit(self, angles, depth, params={}):\n",
    "        q = QuantumRegister(2)\n",
    "        c = ClassicalRegister(2)\n",
    "        circ = QuantumCircuit(q, c)\n",
    "\n",
    "        # initial state\n",
    "        circ.h(q)\n",
    "        \n",
    "        lmbda = params.get(\"lmbda\")\n",
    "        for d in range(depth):\n",
    "            gamma = angles[2 * d]\n",
    "            beta = angles[2 * d + 1]\n",
    "\n",
    "            # cost hamiltonian\n",
    "            circ.rz(-2.*gamma*(1./4.), q[0])\n",
    "            circ.rz(2.*gamma*(1./4.), q[1])\n",
    "            circ.rzz(-2.*gamma*(13./4.), q[0], q[1])\n",
    "            \n",
    "            # constraint hamiltonian\n",
    "            circ.rz(2.*gamma*lmbda*(1./4.), q[0])\n",
    "            circ.rz(2.*gamma*lmbda*(1./4.), q[1])\n",
    "            circ.rzz(-2.*gamma*lmbda*(1./4.), q[0], q[1])\n",
    "            \n",
    "            # mixer hamiltonian\n",
    "            circ.rx(-2.*beta, q)\n",
    "\n",
    "        circ.measure(q, c)\n",
    "        return circ"
   ]
  },
  {
   "cell_type": "code",
   "execution_count": 23,
   "id": "bf8d42af",
   "metadata": {},
   "outputs": [
    {
     "data": {
      "text/html": [
       "<pre style=\"word-wrap: normal;white-space: pre;background: #fff0;line-height: 1.1;font-family: &quot;Courier New&quot;,Courier,monospace\">          ┌───┐┌──────────┐           ┌────────┐        ┌────────┐┌─┐   \n",
       "q26734_0: ┤ H ├┤ Rz(-0.5) ├─■─────────┤ Rz(-4) ├─■──────┤ Rx(-2) ├┤M├───\n",
       "          ├───┤├─────────┬┘ │ZZ(-6.5) ├────────┤ │ZZ(4) ├────────┤└╥┘┌─┐\n",
       "q26734_1: ┤ H ├┤ Rz(0.5) ├──■─────────┤ Rz(-4) ├─■──────┤ Rx(-2) ├─╫─┤M├\n",
       "          └───┘└─────────┘            └────────┘        └────────┘ ║ └╥┘\n",
       " c1719: 2/═════════════════════════════════════════════════════════╩══╩═\n",
       "                                                                   0  1 </pre>"
      ],
      "text/plain": [
       "          ┌───┐┌──────────┐           ┌────────┐        ┌────────┐┌─┐   \n",
       "q26734_0: ┤ H ├┤ Rz(-0.5) ├─■─────────┤ Rz(-4) ├─■──────┤ Rx(-2) ├┤M├───\n",
       "          ├───┤├─────────┬┘ │ZZ(-6.5) ├────────┤ │ZZ(4) ├────────┤└╥┘┌─┐\n",
       "q26734_1: ┤ H ├┤ Rz(0.5) ├──■─────────┤ Rz(-4) ├─■──────┤ Rx(-2) ├─╫─┤M├\n",
       "          └───┘└─────────┘            └────────┘        └────────┘ ║ └╥┘\n",
       " c1719: 2/═════════════════════════════════════════════════════════╩══╩═\n",
       "                                                                   0  1 "
      ]
     },
     "metadata": {},
     "output_type": "display_data"
    }
   ],
   "source": [
    "params = {\"lmbda\" : -4.0}\n",
    "display(QAOA4().createCircuit([1.0, 1.0], 1, params = params).draw())"
   ]
  },
  {
   "cell_type": "code",
   "execution_count": 24,
   "id": "e78023cc",
   "metadata": {},
   "outputs": [
    {
     "name": "stdout",
     "output_type": "stream",
     "text": [
      "Calculating Energy landscape for depth p=1...\n",
      "Calculating Energy landscape done\n",
      "cost(depth= 1 )= -4.40625\n"
     ]
    }
   ],
   "source": [
    "qaoa5 = QAOA5()\n",
    "qaoa5.increase_depth(backend = qasmSim, precision = 0.25, params = params)"
   ]
  },
  {
   "cell_type": "code",
   "execution_count": 25,
   "id": "935b246f",
   "metadata": {},
   "outputs": [
    {
     "data": {
      "image/png": "[encoded data removed]",
      "text/plain": [
       "<Figure size 504x360 with 1 Axes>"
      ]
     },
     "metadata": {},
     "output_type": "display_data"
    }
   ],
   "source": [
    "hist5 = qaoa5.hist(angles = qaoa5.angles_hist['d1_final'], backend = qasmSim, shots = 1024, params = params)\n",
    "display(plot_histogram(reverse_keys(hist5)))"
   ]
  }
 ],
 "metadata": {
  "kernelspec": {
   "display_name": "oqc2",
   "language": "python",
   "name": "oqc2"
  },
  "language_info": {
   "codemirror_mode": {
    "name": "ipython",
    "version": 3
   },
   "file_extension": ".py",
   "mimetype": "text/x-python",
   "name": "python",
   "nbconvert_exporter": "python",
   "pygments_lexer": "ipython3",
   "version": "3.9.0"
  },
  "toc": {
   "base_numbering": 1,
   "nav_menu": {},
   "number_sections": true,
   "sideBar": true,
   "skip_h1_title": false,
   "title_cell": "Table of Contents",
   "title_sidebar": "Contents",
   "toc_cell": false,
   "toc_position": {},
   "toc_section_display": true,
   "toc_window_display": false
  },
  "varInspector": {
   "cols": {
    "lenName": 16,
    "lenType": 16,
    "lenVar": 40
   },
   "kernels_config": {
    "python": {
     "delete_cmd_postfix": "",
     "delete_cmd_prefix": "del ",
     "library": "var_list.py",
     "varRefreshCmd": "print(var_dic_list())"
    },
    "r": {
     "delete_cmd_postfix": ") ",
     "delete_cmd_prefix": "rm(",
     "library": "var_list.r",
     "varRefreshCmd": "cat(var_dic_list()) "
    }
   },
   "types_to_exclude": [
    "module",
    "function",
    "builtin_function_or_method",
    "instance",
    "_Feature"
   ],
   "window_display": false
  }
 },
 "nbformat": 4,
 "nbformat_minor": 5
}
